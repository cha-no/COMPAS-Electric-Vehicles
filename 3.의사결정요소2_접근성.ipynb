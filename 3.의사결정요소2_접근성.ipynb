{
 "cells": [
  {
   "cell_type": "markdown",
   "metadata": {},
   "source": [
    "# 3. 의사결정요소 Feature engineering"
   ]
  },
  {
   "cell_type": "markdown",
   "metadata": {},
   "source": [
    "## 3. 의사결정요소 2 : 접근성\n",
    "### 교통량\n",
    "- 추정교통량 '상세도로망_링크ID'와 \n",
    "- 승용차, 버스, 화물차의 교통량을 모두 더한 '전체' 컬럼만 사용\n",
    "\n",
    "### 주차장 접근성\n",
    "- 격자 중심점으로부터 가장 가까운 주차장까지 도로 이동거리\n",
    "- 국토정보플랫폼 국토정보맵 국토통계지도(http://map.ngii.go.kr/ms/map/NlipMap.do)의 격자별 주차장접근성 데이터(500X500) 사용\n",
    "- feature_gdf의 250X250 격자를 기준으로 가공 \n",
    "\n",
    "### 주차장 흡인력\n",
    "- 허프 확률 모형을 이용하여 주차장이 사람을 유인하는 힘인 주차장 흡인력을 계산함\n",
    "- 주차장 격자로부터 거리가 가까우면 흡인력이 강함\n",
    "- 주차장 면적이 넓을수록 흡인력이 강함\n",
    "- 광양시에 있는 모든 주차장은 모든 격자의 영향을 미칠수 있다고 가정"
   ]
  },
  {
   "cell_type": "markdown",
   "metadata": {},
   "source": [
    "### 라이브러리 및 데이터 불러오기"
   ]
  },
  {
   "cell_type": "code",
   "execution_count": 1,
   "metadata": {},
   "outputs": [],
   "source": [
    "from geoband.API import *"
   ]
  },
  {
   "cell_type": "code",
   "execution_count": 2,
   "metadata": {},
   "outputs": [
    {
     "name": "stderr",
     "output_type": "stream",
     "text": [
      "/opt/app-root/lib/python3.6/site-packages/statsmodels/tools/_testing.py:19: FutureWarning: pandas.util.testing is deprecated. Use the functions in the public API at pandas.testing instead.\n",
      "  import pandas.util.testing as tm\n"
     ]
    }
   ],
   "source": [
    "import folium\n",
    "import json\n",
    "import geopandas as gpd\n",
    "\n",
    "import pandas as pd\n",
    "import numpy as np\n",
    "import seaborn as sns\n",
    "import matplotlib.pyplot as plt\n",
    "import haversine\n",
    "\n",
    "from shapely.geometry import Point, Polygon, MultiPolygon\n",
    "\n",
    "import platform\n",
    "\n",
    "from IPython.display import set_matplotlib_formats\n",
    "\n",
    "if platform.system() == 'Darwin':\n",
    "    plt.rc('font', family = 'AppleGothic')\n",
    "elif platform.system() == 'Windows':\n",
    "    plt.rc('font', family = 'Malgun Gothic')\n",
    "\n",
    "plt.rc('axes', unicode_minus=False)\n",
    "\n",
    "set_matplotlib_formats('retina')\n",
    "\n",
    "import warnings\n",
    "warnings.filterwarnings(action='ignore')\n",
    "\n",
    "import pathlib\n",
    "from tqdm import tqdm, notebook\n",
    "import os\n",
    "\n",
    "%matplotlib inline"
   ]
  },
  {
   "cell_type": "code",
   "execution_count": 3,
   "metadata": {},
   "outputs": [],
   "source": [
    "# 데이터 불러오기\n",
    "input_path = pathlib.Path('./data')\n",
    "if not input_path.is_dir():\n",
    "    input_path.mkdir()\n",
    "\n",
    "GetCompasData('SBJ_2009_001', '2',  input_path.joinpath('02.광양시_주차장_공간정보.csv'))\n",
    "GetCompasData('SBJ_2009_001', '10', input_path.joinpath('10.광양시_상세도로망_LV6.geojson'))\n",
    "GetCompasData('SBJ_2009_001', '11', input_path.joinpath('11.광양시_평일_일별_시간대별__추정교통량_LV6.csv'))\n",
    "\n",
    "# 국토정보맵 데이터\n",
    "주차장접근성 = gpd.read_file('./data/주차장접근성/주차장접근성.shp', encoding = 'euc-kr')\n",
    "\n",
    "# COMPAS 데이터\n",
    "주차장 = pd.read_csv('./data/02.광양시_주차장_공간정보.csv')\n",
    "상세도로망 = gpd.read_file('./data/10.광양시_상세도로망_LV6.geojson')\n",
    "추정교통량 = pd.read_csv('./data/11.광양시_평일_일별_시간대별__추정교통량_LV6.csv')\n",
    "\n",
    "# feature_gdf\n",
    "feature_gdf = gpd.read_file('./data/feature_gdf.geojson')"
   ]
  },
  {
   "cell_type": "markdown",
   "metadata": {},
   "source": [
    "### 교통량"
   ]
  },
  {
   "cell_type": "code",
   "execution_count": 4,
   "metadata": {},
   "outputs": [],
   "source": [
    "# 추정교통량 '시간적범위'의 데이터 타입을 string으로 통일\n",
    "추정교통량['시간적범위'] = 추정교통량['시간적범위'].astype(str)\n",
    "\n",
    "# 시간적_범위 '전일' 추출 및 필요 컬럼만 추출\n",
    "추정교통량 = 추정교통량[추정교통량['시간적범위'] == '전일']\n",
    "추정교통량 = 추정교통량[['상세도로망_링크ID','전체']]\n",
    "\n",
    "# 상세도로망_링크ID 가공(상세도로망 'link_id'과 매칭시키기 위해  상행/하행을 의미하는 두 개 숫자 제거)\n",
    "추정교통량['상세도로망_링크ID'] = 추정교통량['상세도로망_링크ID'].astype(str)\n",
    "추정교통량['link_id'] = 추정교통량['상세도로망_링크ID'].str.slice(start = 0, stop = 9)\n",
    "추정교통량.drop('상세도로망_링크ID', axis = 1, inplace = True)\n",
    "\n",
    "추정교통량 = 추정교통량.groupby(['link_id'])['전체'].sum().to_frame()\n",
    "추정교통량.reset_index(level = ['link_id'], inplace = True)\n",
    "\n",
    "# 상세도로망과 추정교통량 병합\n",
    "교통량 = pd.merge(상세도로망, 추정교통량, on = 'link_id', how = 'left')\n",
    "교통량 = 교통량[['link_id', '전체', 'geometry']]\n",
    "교통량.rename(columns = {'전체':'교통량'}, inplace = True)"
   ]
  },
  {
   "cell_type": "code",
   "execution_count": 5,
   "metadata": {},
   "outputs": [
    {
     "name": "stderr",
     "output_type": "stream",
     "text": [
      "100%|██████████| 3337/3337 [22:05<00:00,  2.52it/s]\n"
     ]
    }
   ],
   "source": [
    "# 도로가 지나가는 격자에 교통량 데이터 입력\n",
    "feature_gdf['교통량'] = 0\n",
    "for i in tqdm(교통량.index):\n",
    "    for j in feature_gdf.index:\n",
    "        if 교통량['geometry'][i].intersects(feature_gdf['geometry'][j]):\n",
    "            feature_gdf['교통량'][j] += 교통량['교통량'][i]"
   ]
  },
  {
   "cell_type": "markdown",
   "metadata": {},
   "source": [
    "### 주차장 접근성"
   ]
  },
  {
   "cell_type": "code",
   "execution_count": 6,
   "metadata": {},
   "outputs": [],
   "source": [
    "# 주차장접근성 데이터에서 광양시 데이터만 추출\n",
    "주차장접근성_광양 = 주차장접근성[주차장접근성['sgg_nm_e'] == 'Gwangyang-si']\n",
    "주차장접근성_광양.reset_index(inplace = True)\n",
    "\n",
    "# 주차장접근성_광양 좌표계 변환\n",
    "주차장접근성_광양 = 주차장접근성_광양.to_crs({'init': 'epsg:4326'})"
   ]
  },
  {
   "cell_type": "code",
   "execution_count": 7,
   "metadata": {},
   "outputs": [
    {
     "name": "stderr",
     "output_type": "stream",
     "text": [
      "100%|██████████| 1930/1930 [12:11<00:00,  2.64it/s]\n"
     ]
    }
   ],
   "source": [
    "#주차장접근성 float로 추가\n",
    "feature_gdf['주차장접근성'] = 0.0\n",
    "for i in tqdm(주차장접근성_광양.index):\n",
    "    for j in feature_gdf.index:\n",
    "        if 주차장접근성_광양['geometry'][i].intersects(feature_gdf['geometry'][j]):\n",
    "            feature_gdf['주차장접근성'][j] += 주차장접근성_광양['value'][i]"
   ]
  },
  {
   "cell_type": "code",
   "execution_count": 8,
   "metadata": {},
   "outputs": [],
   "source": [
    "# 주차장접근성의 값이 클수록 접근성이 좋지 않으므로, 음수로 취함.\n",
    "feature_gdf['주차장접근성'] = -(feature_gdf['주차장접근성'])"
   ]
  },
  {
   "cell_type": "markdown",
   "metadata": {},
   "source": [
    "### 주차장 흡인력"
   ]
  },
  {
   "cell_type": "code",
   "execution_count": 9,
   "metadata": {},
   "outputs": [
    {
     "data": {
      "text/plain": [
       "주차장명칭     0\n",
       "구분        0\n",
       "면적       29\n",
       "주차면수      2\n",
       "유료/무료     0\n",
       "주소        0\n",
       "lon       0\n",
       "lat       0\n",
       "dtype: int64"
      ]
     },
     "execution_count": 9,
     "metadata": {},
     "output_type": "execute_result"
    }
   ],
   "source": [
    "주차장.isnull().sum()"
   ]
  },
  {
   "cell_type": "markdown",
   "metadata": {},
   "source": [
    "- 주차장 면적보다 상대적으로 null값이 적은 주차면수를 활용"
   ]
  },
  {
   "cell_type": "code",
   "execution_count": 10,
   "metadata": {},
   "outputs": [],
   "source": [
    "# 주차장 흡인력을 계산하는 함수\n",
    "def parking_power(geometry):\n",
    "    lat, lon = geometry.centroid.coords[0][1], geometry.centroid.coords[0][0]\n",
    "    \n",
    "    total_주차면수 = 0\n",
    "    for i in range(M):\n",
    "        주차면수 = 주차장.loc[i, '주차면수']\n",
    "        y, x = 주차장.loc[i,['lon','lat']].values\n",
    "        거리 = haversine.haversine((x,y),(lat,lon))\n",
    "\n",
    "        if not(주차면수 != 주차면수):\n",
    "            total_주차면수 += (주차면수/(거리))\n",
    "\n",
    "    return total_주차면수"
   ]
  },
  {
   "cell_type": "code",
   "execution_count": 11,
   "metadata": {},
   "outputs": [
    {
     "name": "stderr",
     "output_type": "stream",
     "text": [
      "100%|██████████| 7804/7804 [27:25<00:00,  4.74it/s]\n"
     ]
    }
   ],
   "source": [
    "N = len(feature_gdf)\n",
    "M = len(주차장)\n",
    "\n",
    "for i in tqdm(range(N)):\n",
    "    geometry = feature_gdf.loc[i, 'geometry']\n",
    "    feature_gdf.loc[i, '주차장흡인력'] = parking_power(geometry)"
   ]
  },
  {
   "cell_type": "code",
   "execution_count": 12,
   "metadata": {},
   "outputs": [],
   "source": [
    "# feature_gdf 저장\n",
    "feature_gdf.to_file('./data/feature_gdf.geojson', driver = 'GeoJSON')"
   ]
  }
 ],
 "metadata": {
  "kernelspec": {
   "display_name": "Python 3",
   "language": "python",
   "name": "python3"
  },
  "language_info": {
   "codemirror_mode": {
    "name": "ipython",
    "version": 3
   },
   "file_extension": ".py",
   "mimetype": "text/x-python",
   "name": "python",
   "nbconvert_exporter": "python",
   "pygments_lexer": "ipython3",
   "version": "3.7.6"
  }
 },
 "nbformat": 4,
 "nbformat_minor": 2
}
