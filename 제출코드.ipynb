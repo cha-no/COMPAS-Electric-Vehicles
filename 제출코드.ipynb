{
 "cells": [
  {
   "cell_type": "markdown",
   "metadata": {},
   "source": [
    "# 1. 탐색적 데이터 분석 (EDA)"
   ]
  },
  {
   "cell_type": "markdown",
   "metadata": {},
   "source": [
    "### 라이브러리 및 데이터 불러오기"
   ]
  },
  {
   "cell_type": "code",
   "execution_count": null,
   "metadata": {},
   "outputs": [],
   "source": [
    "from geoband.API import *"
   ]
  },
  {
   "cell_type": "code",
   "execution_count": null,
   "metadata": {},
   "outputs": [],
   "source": [
    "import folium\n",
    "import json\n",
    "import geopandas as gpd\n",
    "\n",
    "import pandas as pd\n",
    "import numpy as np\n",
    "import seaborn as sns\n",
    "import matplotlib.pyplot as plt\n",
    "import haversine\n",
    "\n",
    "from shapely.geometry import Point, Polygon, MultiPolygon\n",
    "\n",
    "import platform\n",
    "\n",
    "from IPython.display import set_matplotlib_formats\n",
    "\n",
    "if platform.system() == 'Darwin':\n",
    "    plt.rc('font', family = 'AppleGothic')\n",
    "elif platform.system() == 'Windows':\n",
    "    plt.rc('font', family = 'Malgun Gothic')\n",
    "\n",
    "plt.rc('axes', unicode_minus=False)\n",
    "\n",
    "set_matplotlib_formats('retina')\n",
    "\n",
    "import warnings\n",
    "warnings.filterwarnings(action='ignore')\n",
    "\n",
    "import pathlib\n",
    "from tqdm import tqdm, notebook\n",
    "import os\n",
    "\n",
    "%matplotlib inline"
   ]
  },
  {
   "cell_type": "code",
   "execution_count": null,
   "metadata": {},
   "outputs": [],
   "source": [
    "# 데이터 불러오기\n",
    "input_path = pathlib.Path('./data')\n",
    "if not input_path.is_dir():\n",
    "    input_path.mkdir()\n",
    "\n",
    "GetCompasData('SBJ_2009_001', '1', input_path.joinpath('01.광양시_충전소설치현황.csv'))\n",
    "GetCompasData('SBJ_2009_001', '3', input_path.joinpath('03.광양시_자동차등록현황_격자(100X100).geojson'))\n",
    "GetCompasData('SBJ_2009_001', '6', input_path.joinpath('06.광양시_전기차보급현황(연도별,읍면동별).csv'))\n",
    "GetCompasData('SBJ_2009_001', '7', input_path.joinpath('07.광양시_법정동별_인구현황(읍면동리).csv'))\n",
    "GetCompasData('SBJ_2009_001', '8', input_path.joinpath('08.광양시_격자별인구현황(100X100).geojson'))\n",
    "GetCompasData('SBJ_2009_001', '10', input_path.joinpath('10.광양시_상세도로망_LV6.geojson'))\n",
    "GetCompasData('SBJ_2009_001', '11', input_path.joinpath('11.광양시_평일_일별_시간대별__추정교통량_LV6.csv'))\n",
    "GetCompasData('SBJ_2009_001', '20', input_path.joinpath('20.광양시_행정경계(읍면동).geojson'))\n",
    "\n",
    "# 국토정보맵 데이터\n",
    "생산가능인구수 = gpd.read_file('./data/생산가능인구수/vl_blk.shp', encoding = 'EUC-KR')\n",
    "주차장접근성 = gpd.read_file('./data/주차장접근성/주차장접근성.shp')\n",
    "\n",
    "# COMPAS 데이터\n",
    "충전소설치현황 = pd.read_csv('./data/01.광양시_충전소설치현황.csv')\n",
    "자동차등록현황 = gpd.read_file('./data/03.광양시_자동차등록현황_격자(100X100).geojson')\n",
    "전기차보급현황 = pd.read_csv('./data/06.광양시_전기차보급현황(연도별,읍면동별).csv')\n",
    "인구현황 = pd.read_csv('./data/07.광양시_법정동별_인구현황(읍면동리).csv')\n",
    "격자별인구현황 = gpd.read_file('./data/08.광양시_격자별인구현황(100X100).geojson')\n",
    "상세도로망 = gpd.read_file('./data/10.광양시_상세도로망_LV6.geojson')\n",
    "추정교통량 = pd.read_csv('./data/11.광양시_평일_일별_시간대별__추정교통량_LV6.csv')\n",
    "행정경계 = gpd.read_file('./data/20.광양시_행정경계(읍면동).geojson')"
   ]
  },
  {
   "cell_type": "markdown",
   "metadata": {},
   "source": [
    "## 1.1. 충전소설치현황"
   ]
  },
  {
   "cell_type": "code",
   "execution_count": null,
   "metadata": {},
   "outputs": [],
   "source": [
    "충전소설치현황.head()"
   ]
  },
  {
   "cell_type": "code",
   "execution_count": null,
   "metadata": {},
   "outputs": [],
   "source": [
    "# 기존 설치된 충전소 지도 표시\n",
    "center = (34.940710, 127.695920) # 광양시 시청 기준\n",
    "zoom = 11\n",
    "광양시_지도 = folium.Map(location = center,\n",
    "                       zoom_start = zoom,\n",
    "                    tiles='http://api.vworld.kr/req/wmts/1.0.0/7C5AEFC9-57EF-35BD-A78A-74C1DD916554/Base/{z}/{y}/{x}.png',\n",
    "                    attr='My Data Attribution')\n",
    "folium.GeoJson(행정경계).add_to(광양시_지도)\n",
    "\n",
    "for i in 충전소설치현황.index:\n",
    "    popup_name = 충전소설치현황['충전소명'][i] + '-' + 충전소설치현황['급속/완속'][i]\n",
    "    if 충전소설치현황['급속/완속'][i] == '급속':\n",
    "        icon_color = 'red' # 급속: 빨강\n",
    "    else:\n",
    "        icon_color = 'green' # 완속: 초록\n",
    "    \n",
    "    folium.Marker(\n",
    "        location = (충전소설치현황['lat'][i], 충전소설치현황['lon'][i]),\n",
    "        popup = popup_name,\n",
    "        icon = folium.Icon(color=icon_color)\n",
    "    ).add_to(광양시_지도)\n",
    "\n",
    "광양시_지도"
   ]
  },
  {
   "cell_type": "markdown",
   "metadata": {},
   "source": [
    "- 도심지 위주로 충전소들이 설치되어 있음 (중마동, 광양읍, 광영동, 금호동, 태인동)"
   ]
  },
  {
   "cell_type": "markdown",
   "metadata": {},
   "source": [
    "## 1.2. 전기차보급현황"
   ]
  },
  {
   "cell_type": "code",
   "execution_count": null,
   "metadata": {},
   "outputs": [],
   "source": [
    "전기차보급현황.head()"
   ]
  },
  {
   "cell_type": "code",
   "execution_count": null,
   "metadata": {},
   "outputs": [],
   "source": [
    "print('총 전기차 보급 현황: {}'.format(전기차보급현황['보급현황'].sum()))"
   ]
  },
  {
   "cell_type": "code",
   "execution_count": null,
   "metadata": {},
   "outputs": [],
   "source": [
    "전기차보급현황.groupby(['행정구역'])['보급현황'].sum().sort_values(ascending=False)"
   ]
  },
  {
   "cell_type": "code",
   "execution_count": null,
   "metadata": {},
   "outputs": [],
   "source": [
    "전기차보급현황.groupby(['행정구역'])['보급현황'].sum().sort_values(ascending=False).plot(kind = 'bar', title = '행정구역별 전기차 보급 현황', figsize=(10,6))\n",
    "plt.show()"
   ]
  },
  {
   "cell_type": "markdown",
   "metadata": {},
   "source": [
    "- 광양읍과 중마동에 전기차 보급이 집중되어 있음"
   ]
  },
  {
   "cell_type": "code",
   "execution_count": null,
   "metadata": {},
   "outputs": [],
   "source": [
    "print('총 자동차 등록 현황: {}'.format(자동차등록현황['totale'].sum()))"
   ]
  },
  {
   "cell_type": "code",
   "execution_count": null,
   "metadata": {},
   "outputs": [],
   "source": [
    "print('전기차 비중: {:.3f}%'.format((253/15862*100)))"
   ]
  },
  {
   "cell_type": "markdown",
   "metadata": {},
   "source": [
    "## 1.3. 자동차등록현황"
   ]
  },
  {
   "cell_type": "code",
   "execution_count": null,
   "metadata": {},
   "outputs": [],
   "source": [
    "자동차등록현황"
   ]
  },
  {
   "cell_type": "code",
   "execution_count": null,
   "metadata": {},
   "outputs": [],
   "source": [
    "# 자동차등록현황 지도 표시\n",
    "center = (34.940710, 127.695920) # 광양시 시청 기준\n",
    "zoom = 11\n",
    "광양시_지도 = folium.Map(location = center,\n",
    "                       zoom_start = zoom,\n",
    "                    tiles='http://api.vworld.kr/req/wmts/1.0.0/7C5AEFC9-57EF-35BD-A78A-74C1DD916554/Base/{z}/{y}/{x}.png',\n",
    "                    attr='My Data Attribution')\n",
    "folium.GeoJson(행정경계).add_to(광양시_지도)\n",
    "\n",
    "# 1개 이상의 자동차가 등록된 지역\n",
    "자동차_nonzero = 자동차등록현황.loc[자동차등록현황['totale'] !=0]\n",
    "folium.Choropleth(\n",
    "    geo_data = 자동차_nonzero,\n",
    "    data = 자동차_nonzero,\n",
    "    columns=['id', 'totale'],\n",
    "    key_on='feature.properties.id',\n",
    "    fill_color='YlGnBu'\n",
    ").add_to(광양시_지도)\n",
    "\n",
    "광양시_지도"
   ]
  },
  {
   "cell_type": "markdown",
   "metadata": {},
   "source": [
    "- 전기차와 마찬가지로 광양읍과 중마동에 차량이 집중되어 있음."
   ]
  },
  {
   "cell_type": "markdown",
   "metadata": {},
   "source": [
    "## 1.4. 인구현황"
   ]
  },
  {
   "cell_type": "code",
   "execution_count": null,
   "metadata": {},
   "outputs": [],
   "source": [
    "인구현황.head()"
   ]
  },
  {
   "cell_type": "code",
   "execution_count": null,
   "metadata": {},
   "outputs": [],
   "source": [
    "인구현황.groupby(['읍면동'])['계'].sum().sort_values(ascending=False)"
   ]
  },
  {
   "cell_type": "code",
   "execution_count": null,
   "metadata": {},
   "outputs": [],
   "source": [
    "인구현황.groupby(['읍면동'])['계'].sum().sort_values(ascending=False).plot(kind = 'bar', title = '법정도별 인구 현황', figsize=(10,6))\n",
    "plt.show()"
   ]
  },
  {
   "cell_type": "markdown",
   "metadata": {},
   "source": [
    "- 광양읍과 중마동 두 지역에 인구와, 자동차, 전기차, 충전소가 밀집되어 있음\n",
    "- 밀집도가 어느정도 충전소 설치에 영향을 미칠 것이라 생각함"
   ]
  },
  {
   "cell_type": "markdown",
   "metadata": {},
   "source": [
    "## 1.5. 교통량"
   ]
  },
  {
   "cell_type": "code",
   "execution_count": null,
   "metadata": {},
   "outputs": [],
   "source": [
    "추정교통량.head()"
   ]
  },
  {
   "cell_type": "code",
   "execution_count": null,
   "metadata": {},
   "outputs": [],
   "source": [
    "상세도로망['link_id'], 추정교통량['상세도로망_링크ID']"
   ]
  },
  {
   "cell_type": "markdown",
   "metadata": {},
   "source": [
    "- 추정교통량의 '상세도로망_링크ID' 뒤에 붙는 01, 02의 의미는 각각 상행, 하행을 나타냄.\n",
    "- 도로등급이 '고속도로'인 경우 상,하행과 관련없이 대부분 01로 구분.\n",
    "- __상세도로망의 'link_id'와 매칭시키기 위해서는 뒤에 두 자릿수를 빼야함.__"
   ]
  },
  {
   "cell_type": "code",
   "execution_count": null,
   "metadata": {},
   "outputs": [],
   "source": [
    "추정교통량['시간적범위'].unique()"
   ]
  },
  {
   "cell_type": "markdown",
   "metadata": {},
   "source": [
    "- '시간적범위'의 데이터 타입이 섞여있음"
   ]
  },
  {
   "cell_type": "code",
   "execution_count": null,
   "metadata": {},
   "outputs": [],
   "source": [
    "#데이터 타입 string으로 통일\n",
    "추정교통량['시간적범위'] = 추정교통량['시간적범위'].astype(str)\n",
    "추정교통량['시간적범위'].unique()"
   ]
  },
  {
   "cell_type": "markdown",
   "metadata": {},
   "source": [
    "- 전일과, 0~23시의 시간적범위가 있음.\n",
    "- __전체 교통량이 중요하기에 '전일'만 사용.__"
   ]
  },
  {
   "cell_type": "code",
   "execution_count": null,
   "metadata": {},
   "outputs": [],
   "source": [
    "추정교통량['평일주말'].unique()"
   ]
  },
  {
   "cell_type": "markdown",
   "metadata": {},
   "source": [
    "- '평일주말'엔 평일만 있음"
   ]
  },
  {
   "cell_type": "markdown",
   "metadata": {},
   "source": [
    "- 승용차, 버스, 화물차의 교통량을 모두 더한 '전체' 컬럼만 사용.\n",
    "- __필요한 컬럼: ['상세도로망_링크ID', '시간적_범위', '전체']__"
   ]
  },
  {
   "cell_type": "code",
   "execution_count": null,
   "metadata": {},
   "outputs": [],
   "source": [
    "# 상세도로망_링크ID 가공\n",
    "추정교통량['상세도로망_링크ID'] = 추정교통량['상세도로망_링크ID'].astype(str)\n",
    "추정교통량['link_id'] = 추정교통량['상세도로망_링크ID'].str.slice(start = 0, stop = 9)\n",
    "추정교통량.drop('상세도로망_링크ID', axis = 1, inplace = True)\n",
    "\n",
    "추정교통량 = 추정교통량.groupby(['link_id'])['전체'].sum().to_frame()\n",
    "추정교통량.reset_index(level = ['link_id'], inplace = True)"
   ]
  },
  {
   "cell_type": "code",
   "execution_count": null,
   "metadata": {},
   "outputs": [],
   "source": [
    "추정교통량['link_id']"
   ]
  },
  {
   "cell_type": "code",
   "execution_count": null,
   "metadata": {},
   "outputs": [],
   "source": [
    "# 상세도로망 데이터와 추정교통량 데이터 합치기\n",
    "추정교통량['link_id'] = 추정교통량['link_id'].astype(str)\n",
    "교통량_gdf = pd.merge(상세도로망, 추정교통량, on = 'link_id', how = 'left')\n",
    "교통량_gdf = 교통량_gdf[['link_id', '전체', 'geometry']]\n",
    "# '전체' column명을 '교통량'으로 변경\n",
    "교통량_gdf.rename(columns = {'전체':'교통량'}, inplace = True)"
   ]
  },
  {
   "cell_type": "markdown",
   "metadata": {},
   "source": [
    "### 격자 데이터에 교통량 데이터 표현\n",
    "- 생산가능인구수의 격자 사용"
   ]
  },
  {
   "cell_type": "code",
   "execution_count": null,
   "metadata": {},
   "outputs": [],
   "source": [
    "# 생산가능인구수의 좌표계를 EPSG:4326으로 변환함\n",
    "생산가능인구수 = 생산가능인구수.to_crs({'init': 'epsg:4326'})"
   ]
  },
  {
   "cell_type": "code",
   "execution_count": null,
   "metadata": {},
   "outputs": [],
   "source": [
    "# 도로가 지나가는 격자에 교통량 데이터 입력\n",
    "생산가능인구수['교통량'] = 0\n",
    "for i in tqdm(교통량_gdf.index):\n",
    "    for j in 생산가능인구수.index:\n",
    "        if 교통량_gdf['geometry'][i].intersects(생산가능인구수['geometry'][j]):\n",
    "            생산가능인구수['교통량'][j] += 교통량_gdf['교통량'][i]"
   ]
  },
  {
   "cell_type": "code",
   "execution_count": null,
   "metadata": {},
   "outputs": [],
   "source": [
    "# 교통량 지도에 표시\n",
    "center = (34.940710, 127.695920) # 광양시 시청 기준\n",
    "zoom = 11\n",
    "광양시_지도 = folium.Map(location = center,\n",
    "                       zoom_start = zoom,\n",
    "                    tiles='http://api.vworld.kr/req/wmts/1.0.0/7C5AEFC9-57EF-35BD-A78A-74C1DD916554/Base/{z}/{y}/{x}.png',\n",
    "                    attr='My Data Attribution')\n",
    "\n",
    "folium.Choropleth(\n",
    "    geo_data = 생산가능인구수,\n",
    "    data = 생산가능인구수,\n",
    "    columns=['gid', '교통량'],\n",
    "    key_on='feature.properties.gid',\n",
    "    fill_color = 'YlGnBu'\n",
    ").add_to(광양시_지도)\n",
    "광양시_지도"
   ]
  },
  {
   "cell_type": "markdown",
   "metadata": {},
   "source": [
    "## 1.6. 주차장접근성"
   ]
  },
  {
   "cell_type": "code",
   "execution_count": null,
   "metadata": {},
   "outputs": [],
   "source": [
    "# 주차장접근성 데이터에서 광양시 데이터만 추출\n",
    "주차장접근성_광양 = 주차장접근성[주차장접근성['sgg_nm_e'] == 'Gwangyang-si']\n",
    "주차장접근성_광양.reset_index(inplace = True)\n",
    "\n",
    "# 주차장접근성_광양 좌표계 변환\n",
    "주차장접근성_광양 = 주차장접근성_광양.to_crs({'init': 'epsg:4326'})"
   ]
  },
  {
   "cell_type": "code",
   "execution_count": null,
   "metadata": {},
   "outputs": [],
   "source": [
    "# 주차장접근성 지도에 표시\n",
    "center = (34.940710, 127.695920) # 광양시 시청 기준\n",
    "zoom = 11\n",
    "광양시_지도 = folium.Map(location = center,\n",
    "                       zoom_start = zoom,\n",
    "                    tiles='http://api.vworld.kr/req/wmts/1.0.0/7C5AEFC9-57EF-35BD-A78A-74C1DD916554/Base/{z}/{y}/{x}.png',\n",
    "                    attr='My Data Attribution')\n",
    "\n",
    "folium.Choropleth(\n",
    "    geo_data = 주차장접근성_광양,\n",
    "    data = 주차장접근성_광양,\n",
    "    columns=['gid', 'value'],\n",
    "    key_on='feature.properties.gid',\n",
    "    fill_color = 'YlGnBu'\n",
    ").add_to(광양시_지도)\n",
    "광양시_지도"
   ]
  },
  {
   "cell_type": "markdown",
   "metadata": {},
   "source": [
    "- 주차장접근성은 격자 중심점으로부터 가장 가까운 주차장까지 도로 이동거리이므로, 클수록 접근성이 좋지 않은 것\n",
    "- 도심지역일수록 주차장 접근성이 대체로 좋음"
   ]
  },
  {
   "cell_type": "markdown",
   "metadata": {},
   "source": [
    "# 2. 의사결정요소 Feature engineering"
   ]
  },
  {
   "cell_type": "markdown",
   "metadata": {},
   "source": [
    "## 2. 의사결정요소 1 : 밀집도\n",
    "### 생산가능인구수\n",
    "- 국토정보플랫폼 국토정보맵 국토통계지도(http://map.ngii.go.kr/ms/map/NlipMap.do)의 격자별 생산가능인구수 데이터(250X250) 사용 \n",
    "\n",
    "### 자동차보유*전기차비율\n",
    "- 제공된 데이터는 100X100 격자 기준이나, 타 요소와의 격자 통일을 위해 처리함(250X250)\n",
    "- Null 값은 존재하지 않으나 0값이 대부분을 차지하고 있어, 데이터 변환의 수월성을 위해 0값을 제거함\n",
    "- 전기차보급현황 데이터를 통해 계산한 행정구역별 전기차 보급 비율을 자동차등록현황에 곱해줌\n",
    "\n",
    "### 토지이용압축도\n",
    "- 격자 내 건축물 연면적 합 ÷ 격자 면적 × 100"
   ]
  },
  {
   "cell_type": "markdown",
   "metadata": {},
   "source": [
    "### 데이터 불러오기"
   ]
  },
  {
   "cell_type": "code",
   "execution_count": null,
   "metadata": {},
   "outputs": [],
   "source": [
    "# 데이터 불러오기\n",
    "input_path = pathlib.Path('./data')\n",
    "if not input_path.is_dir():\n",
    "    input_path.mkdir()\n",
    "\n",
    "\n",
    "GetCompasData('SBJ_2009_001', '3', input_path.joinpath('03.광양시_자동차등록현황_격자(100X100).geojson'))\n",
    "GetCompasData('SBJ_2009_001', '6', input_path.joinpath('06.광양시_전기차보급현황(연도별,읍면동별).csv'))\n",
    "GetCompasData('SBJ_2009_001', '15', input_path.joinpath('15.광양시_건물정보.geojson'))\n",
    "GetCompasData('SBJ_2009_001', '20', input_path.joinpath('20.광양시_행정경계(읍면동).geojson'))\n",
    "\n",
    "# 국토정보맵 데이터\n",
    "생산가능인구수 = gpd.read_file('./data/생산가능인구수/vl_blk.shp', encoding = 'EUC-KR')\n",
    "\n",
    "# COMPAS 데이터\n",
    "자동차등록현황 = gpd.read_file('./data/03.광양시_자동차등록현황_격자(100X100).geojson')\n",
    "전기차보급현황 = pd.read_csv('./data/06.광양시_전기차보급현황(연도별,읍면동별).csv')\n",
    "건물정보 = gpd.read_file('./data/15.광양시_건물정보.geojson')\n",
    "행정경계_읍면동 = gpd.read_file('./data/20.광양시_행정경계(읍면동).geojson')"
   ]
  },
  {
   "cell_type": "markdown",
   "metadata": {},
   "source": [
    "### 생산가능인구수"
   ]
  },
  {
   "cell_type": "code",
   "execution_count": null,
   "metadata": {},
   "outputs": [],
   "source": [
    "# 생산가능인구수의 좌표계를 EPSG:4326으로 변환함\n",
    "생산가능인구수 = 생산가능인구수.to_crs({'init': 'epsg:4326'})\n",
    "\n",
    "# feature_gdf 데이터 프레임에 밀집도 feature 취합함\n",
    "feature_gdf = 생산가능인구수.drop('lbl', axis = 1).rename(columns = {'val':'생산가능인구수'}).copy()"
   ]
  },
  {
   "cell_type": "markdown",
   "metadata": {},
   "source": [
    "### 자동차보유*전기차비율"
   ]
  },
  {
   "cell_type": "code",
   "execution_count": null,
   "metadata": {},
   "outputs": [],
   "source": [
    "# 자동차등록현황 250X250 격자화 및 feature_gdf에 취합\n",
    "feature_gdf['자동차등록현황'] = 0\n",
    "자동차등록현황 = 자동차등록현황[자동차등록현황['totale'] != 0]\n",
    "\n",
    "for i in tqdm(자동차등록현황.index):\n",
    "    for j in feature_gdf.index:\n",
    "        if 자동차등록현황['geometry'][i].intersects(feature_gdf['geometry'][j]):\n",
    "            feature_gdf['자동차등록현황'][j] += 자동차등록현황['totale'][i]"
   ]
  },
  {
   "cell_type": "markdown",
   "metadata": {},
   "source": [
    "- 자동차등록현황에 광양시 전기차 비율 반영"
   ]
  },
  {
   "cell_type": "code",
   "execution_count": null,
   "metadata": {},
   "outputs": [],
   "source": [
    "# 전기차보급현황의 행정경계 표시하기 위해 dataframe merge\n",
    "전기차보급현황 = 전기차보급현황.groupby('행정구역')[['보급현황']].sum()\n",
    "전기차보급현황 = pd.merge(행정경계_읍면동, 전기차보급현황, left_on = 'ADM_DR_NM', right_on = '행정구역')\n",
    "전기차보급현황 = 전기차보급현황.rename(columns = {'ADM_DR_NM' : '행정구역'})[['행정구역', '보급현황', 'geometry']]"
   ]
  },
  {
   "cell_type": "code",
   "execution_count": null,
   "metadata": {},
   "outputs": [],
   "source": [
    "%%time\n",
    "ft2 = feature_gdf.copy()\n",
    "ft2['행정구역'] = 'NaN'\n",
    "\n",
    "# 격자에 데이터 넣기\n",
    "for i in range(len(ft2)):\n",
    "    point = ft2['geometry'][i].centroid\n",
    "    for j in range(len(전기차보급현황)):\n",
    "        if (point.within(전기차보급현황['geometry'][j])):           #격자의 centroid가 행정경계 안에 있으면 행정구역명 넣기\n",
    "            ft2['행정구역'][i] = 전기차보급현황['행정구역'][j]\n",
    "            break\n",
    "        elif (ft2['geometry'][i].intersects(전기차보급현황['geometry'][j])):     #경계에 걸쳐있어 null값으로 처리되는 데이터는 intersects로 겹치면 행정구역명 넣기\n",
    "            ft2['행정구역'][i] = 전기차보급현황['행정구역'][j]\n",
    "            break"
   ]
  },
  {
   "cell_type": "code",
   "execution_count": null,
   "metadata": {},
   "outputs": [],
   "source": [
    "# 처리되지 않는 null값은 따로 처리(3건)\n",
    "ft2['행정구역'][1212] = '광양읍'\n",
    "ft2['행정구역'][1213] = '광양읍'\n",
    "ft2['행정구역'][7606] = '태인동'"
   ]
  },
  {
   "cell_type": "code",
   "execution_count": null,
   "metadata": {},
   "outputs": [],
   "source": [
    "# 전기차보급현황 dataframe에 행정구역별 전기차 보급 비율 계산해서 추가\n",
    "df = ft2.groupby('행정구역')[['자동차등록현황']].sum()\n",
    "df2 = pd.merge(df, 전기차보급현황, on = '행정구역')\n",
    "df2['보급비율'] = df2['보급현황']/df2['자동차등록현황']\n",
    "df2"
   ]
  },
  {
   "cell_type": "code",
   "execution_count": null,
   "metadata": {},
   "outputs": [],
   "source": [
    "%%time\n",
    "ft2['자동차보유*전기차비율'] = ft2['자동차등록현황'].astype(float)\n",
    "\n",
    "for i in range(len(ft2)):\n",
    "    for j in range(len(df2)):\n",
    "        if (ft2['행정구역'][i] == df2['행정구역'][j]):\n",
    "            ft2['자동차보유*전기차비율'][i] =  ft2['자동차보유*전기차비율'][i]*df2['보급비율'][j]\n",
    "            break\n",
    "\n",
    "# feature_gdf에 취합\n",
    "feature_gdf['자동차보유*전기차비율'] = ft2['자동차보유*전기차비율']\n",
    "feature_gdf.drop('자동차등록현황', axis=1, inplace=True)"
   ]
  },
  {
   "cell_type": "markdown",
   "metadata": {},
   "source": [
    "### 토지이용압축도"
   ]
  },
  {
   "cell_type": "code",
   "execution_count": null,
   "metadata": {},
   "outputs": [],
   "source": [
    "# 건물정보 데이터를 활용하여 격자 내 연면적 합 구하기\n",
    "건물정보_연면적 = 건물정보[['건물연면적','geometry']]\n",
    "\n",
    "feature_gdf['연면적'] = 0\n",
    "\n",
    "for i in tqdm(건물정보_연면적.index):\n",
    "    point = 건물정보_연면적['geometry'][i].centroid\n",
    "    for j in feature_gdf.index:\n",
    "        if(point.within(feature_gdf['geometry'][j])):\n",
    "            feature_gdf['연면적'][j] += 건물정보_연면적['건물연면적'][i]"
   ]
  },
  {
   "cell_type": "code",
   "execution_count": null,
   "metadata": {},
   "outputs": [],
   "source": [
    "# 토지이용압축도 구하기 (격자 내 건축물 연면적 합 ÷ 격자 면적 × 100)\n",
    "feature_gdf['토지이용압축도'] = feature_gdf['연면적']/62500 * 100\n",
    "feature_gdf.drop('연면적', axis=1, inplace=True)"
   ]
  },
  {
   "cell_type": "code",
   "execution_count": null,
   "metadata": {},
   "outputs": [],
   "source": [
    "# feature_gdf 저장\n",
    "feature_gdf.to_file('./data/feature_gdf.geojson', driver = 'GeoJSON')"
   ]
  },
  {
   "cell_type": "markdown",
   "metadata": {},
   "source": [
    "## 3. 의사결정요소 2 : 접근성\n",
    "### 교통량\n",
    "- 추정교통량 '상세도로망_링크ID'와 \n",
    "- 승용차, 버스, 화물차의 교통량을 모두 더한 '전체' 컬럼만 사용\n",
    "\n",
    "### 주차장 접근성\n",
    "- 격자 중심점으로부터 가장 가까운 주차장까지 도로 이동거리\n",
    "- 국토정보플랫폼 국토정보맵 국토통계지도(http://map.ngii.go.kr/ms/map/NlipMap.do)의 격자별 주차장접근성 데이터(500X500) 사용\n",
    "- feature_gdf의 250X250 격자를 기준으로 가공 \n",
    "\n",
    "### 주차장 흡인력\n",
    "- 허프 확률 모형을 이용하여 주차장이 사람을 유인하는 힘인 주차장 흡인력을 계산함\n",
    "- 주차장 격자로부터 거리가 가까우면 흡인력이 강함\n",
    "- 주차장 면적이 넓을수록 흡인력이 강함\n",
    "- 광양시에 있는 모든 주차장은 모든 격자의 영향을 미칠수 있다고 가정"
   ]
  },
  {
   "cell_type": "markdown",
   "metadata": {},
   "source": [
    "### 데이터 불러오기"
   ]
  },
  {
   "cell_type": "code",
   "execution_count": null,
   "metadata": {},
   "outputs": [],
   "source": [
    "# 데이터 불러오기\n",
    "input_path = pathlib.Path('./data')\n",
    "if not input_path.is_dir():\n",
    "    input_path.mkdir()\n",
    "\n",
    "GetCompasData('SBJ_2009_001', '2',  input_path.joinpath('02.광양시_주차장_공간정보.csv'))\n",
    "GetCompasData('SBJ_2009_001', '10', input_path.joinpath('10.광양시_상세도로망_LV6.geojson'))\n",
    "GetCompasData('SBJ_2009_001', '11', input_path.joinpath('11.광양시_평일_일별_시간대별__추정교통량_LV6.csv'))\n",
    "\n",
    "# 국토정보맵 데이터\n",
    "주차장접근성 = gpd.read_file('./data/주차장접근성/주차장접근성.shp', encoding = 'euc-kr')\n",
    "\n",
    "# COMPAS 데이터\n",
    "주차장 = pd.read_csv('./data/02.광양시_주차장_공간정보.csv')\n",
    "상세도로망 = gpd.read_file('./data/10.광양시_상세도로망_LV6.geojson')\n",
    "추정교통량 = pd.read_csv('./data/11.광양시_평일_일별_시간대별__추정교통량_LV6.csv')\n",
    "\n",
    "# feature_gdf\n",
    "feature_gdf = gpd.read_file('./data/feature_gdf.geojson')"
   ]
  },
  {
   "cell_type": "markdown",
   "metadata": {},
   "source": [
    "### 교통량"
   ]
  },
  {
   "cell_type": "code",
   "execution_count": null,
   "metadata": {},
   "outputs": [],
   "source": [
    "# 추정교통량 '시간적범위'의 데이터 타입을 string으로 통일\n",
    "추정교통량['시간적범위'] = 추정교통량['시간적범위'].astype(str)\n",
    "\n",
    "# 시간적_범위 '전일' 추출 및 필요 컬럼만 추출\n",
    "추정교통량 = 추정교통량[추정교통량['시간적범위'] == '전일']\n",
    "추정교통량 = 추정교통량[['상세도로망_링크ID','전체']]\n",
    "\n",
    "# 상세도로망_링크ID 가공(상세도로망 'link_id'과 매칭시키기 위해  상행/하행을 의미하는 두 개 숫자 제거)\n",
    "추정교통량['상세도로망_링크ID'] = 추정교통량['상세도로망_링크ID'].astype(str)\n",
    "추정교통량['link_id'] = 추정교통량['상세도로망_링크ID'].str.slice(start = 0, stop = 9)\n",
    "추정교통량.drop('상세도로망_링크ID', axis = 1, inplace = True)\n",
    "\n",
    "추정교통량 = 추정교통량.groupby(['link_id'])['전체'].sum().to_frame()\n",
    "추정교통량.reset_index(level = ['link_id'], inplace = True)\n",
    "\n",
    "# 상세도로망과 추정교통량 병합\n",
    "교통량 = pd.merge(상세도로망, 추정교통량, on = 'link_id', how = 'left')\n",
    "교통량 = 교통량[['link_id', '전체', 'geometry']]\n",
    "교통량.rename(columns = {'전체':'교통량'}, inplace = True)"
   ]
  },
  {
   "cell_type": "code",
   "execution_count": null,
   "metadata": {},
   "outputs": [],
   "source": [
    "# 도로가 지나가는 격자에 교통량 데이터 입력\n",
    "feature_gdf['교통량'] = 0\n",
    "for i in tqdm(교통량.index):\n",
    "    for j in feature_gdf.index:\n",
    "        if 교통량['geometry'][i].intersects(feature_gdf['geometry'][j]):\n",
    "            feature_gdf['교통량'][j] += 교통량['교통량'][i]"
   ]
  },
  {
   "cell_type": "markdown",
   "metadata": {},
   "source": [
    "### 주차장 접근성"
   ]
  },
  {
   "cell_type": "code",
   "execution_count": null,
   "metadata": {},
   "outputs": [],
   "source": [
    "# 주차장접근성 데이터에서 광양시 데이터만 추출\n",
    "주차장접근성_광양 = 주차장접근성[주차장접근성['sgg_nm_e'] == 'Gwangyang-si']\n",
    "주차장접근성_광양.reset_index(inplace = True)\n",
    "\n",
    "# 주차장접근성_광양 좌표계 변환\n",
    "주차장접근성_광양 = 주차장접근성_광양.to_crs({'init': 'epsg:4326'})"
   ]
  },
  {
   "cell_type": "code",
   "execution_count": null,
   "metadata": {},
   "outputs": [],
   "source": [
    "#주차장접근성 float로 추가\n",
    "feature_gdf['주차장접근성'] = 0.0\n",
    "for i in tqdm(주차장접근성_광양.index):\n",
    "    for j in feature_gdf.index:\n",
    "        if 주차장접근성_광양['geometry'][i].intersects(feature_gdf['geometry'][j]):\n",
    "            feature_gdf['주차장접근성'][j] += 주차장접근성_광양['value'][i]"
   ]
  },
  {
   "cell_type": "code",
   "execution_count": null,
   "metadata": {},
   "outputs": [],
   "source": [
    "# 주차장접근성의 값이 클수록 접근성이 좋지 않으므로, 음수로 취함.\n",
    "feature_gdf['주차장접근성'] = -(feature_gdf['주차장접근성'])"
   ]
  },
  {
   "cell_type": "markdown",
   "metadata": {},
   "source": [
    "### 주차장 흡인력"
   ]
  },
  {
   "cell_type": "code",
   "execution_count": null,
   "metadata": {},
   "outputs": [],
   "source": [
    "주차장.isnull().sum()"
   ]
  },
  {
   "cell_type": "markdown",
   "metadata": {},
   "source": [
    "- 주차장 면적보다 상대적으로 null값이 적은 주차면수를 활용"
   ]
  },
  {
   "cell_type": "code",
   "execution_count": null,
   "metadata": {},
   "outputs": [],
   "source": [
    "# 주차장 흡인력을 계산하는 함수\n",
    "def parking_power(geometry):\n",
    "    lat, lon = geometry.centroid.coords[0][1], geometry.centroid.coords[0][0]\n",
    "    \n",
    "    total_주차면수 = 0\n",
    "    for i in range(M):\n",
    "        주차면수 = 주차장.loc[i, '주차면수']\n",
    "        y, x = 주차장.loc[i,['lon','lat']].values\n",
    "        거리 = haversine.haversine((x,y),(lat,lon))\n",
    "\n",
    "        if not(주차면수 != 주차면수):\n",
    "            total_주차면수 += (주차면수/(거리))\n",
    "\n",
    "    return total_주차면수"
   ]
  },
  {
   "cell_type": "code",
   "execution_count": null,
   "metadata": {},
   "outputs": [],
   "source": [
    "N = len(feature_gdf)\n",
    "M = len(주차장)\n",
    "\n",
    "for i in tqdm(range(N)):\n",
    "    geometry = feature_gdf.loc[i, 'geometry']\n",
    "    feature_gdf.loc[i, '주차장흡인력'] = parking_power(geometry)"
   ]
  },
  {
   "cell_type": "code",
   "execution_count": null,
   "metadata": {},
   "outputs": [],
   "source": [
    "# feature_gdf 저장\n",
    "feature_gdf.to_file('./data/feature_gdf.geojson', driver = 'GeoJSON')"
   ]
  },
  {
   "cell_type": "markdown",
   "metadata": {},
   "source": [
    "# 4. 데이터 전처리"
   ]
  },
  {
   "cell_type": "markdown",
   "metadata": {},
   "source": [
    "### 데이터 불러오기"
   ]
  },
  {
   "cell_type": "code",
   "execution_count": null,
   "metadata": {},
   "outputs": [],
   "source": [
    "# 데이터 불러오기\n",
    "input_path = pathlib.Path('./data')\n",
    "if not input_path.is_dir():\n",
    "    input_path.mkdir()\n",
    "\n",
    "GetCompasData('SBJ_2009_001', '1', input_path.joinpath('01.광양시_충전소설치현황.csv'))\n",
    "\n",
    "# COMPAS 데이터\n",
    "충전소설치현황 = pd.read_csv('./data/01.광양시_충전소설치현황.csv')\n",
    "\n",
    "# feature_gdf\n",
    "feature_gdf = gpd.read_file('./data/feature_gdf.geojson')"
   ]
  },
  {
   "cell_type": "markdown",
   "metadata": {},
   "source": [
    "## 4.1. MinMaxScaler\n",
    "- feature별로 상위 30퍼센트 격자만 추출\n",
    "- 즉, feature별로 상위 30퍼센트 격자들의 교집합만 고려\n",
    "- 충분히 40개 이상은 뽑을 수 있음"
   ]
  },
  {
   "cell_type": "code",
   "execution_count": null,
   "metadata": {},
   "outputs": [],
   "source": [
    "def MinMaxScaler(values):\n",
    "    min_value = values.min()\n",
    "    max_value = values.max()\n",
    "    return (values-min_value)/(max_value - min_value)"
   ]
  },
  {
   "cell_type": "code",
   "execution_count": null,
   "metadata": {},
   "outputs": [],
   "source": [
    "features = ['생산가능인구수', '자동차보유*전기차비율', '토지이용압축도', \n",
    "            '교통량', '주차장접근성', '주차장흡인력']\n",
    "의사결정요소 = ['밀집도', '접근성']"
   ]
  },
  {
   "cell_type": "code",
   "execution_count": null,
   "metadata": {},
   "outputs": [],
   "source": [
    "# feature 별로 상위 30퍼센트 뽑아서 minmaxscale\n",
    "\n",
    "scale_df = feature_gdf[['gid', 'geometry']]\n",
    "for feature in features:\n",
    "    print(f'0이 아닌 {feature} 의 갯수 :',feature_gdf[feature_gdf[feature] != 0][feature].count())\n",
    "    temp = feature_gdf[feature_gdf[feature] != 0][feature].quantile(0.7)\n",
    "    print(f'{feature}의 상위 30퍼 갯수 :',feature_gdf[feature_gdf[feature] >= temp][feature].count(), '\\n')\n",
    "    scale_df = pd.merge(scale_df, MinMaxScaler(feature_gdf[feature_gdf[feature] >= temp][feature]).to_frame(), left_index = True, right_index = True, how = 'left')\n",
    "\n",
    "scale_df = scale_df.fillna(0)"
   ]
  },
  {
   "cell_type": "code",
   "execution_count": null,
   "metadata": {},
   "outputs": [],
   "source": [
    "# 의사결정요소를 각 feature를 합해서 구함\n",
    "for i in range(2):\n",
    "    scale_df[의사결정요소[i]] = scale_df[features[3*i]] + scale_df[features[3*i+1]] + scale_df[features[3*i+2]]\n",
    "\n",
    "scale_df"
   ]
  },
  {
   "cell_type": "code",
   "execution_count": null,
   "metadata": {},
   "outputs": [],
   "source": [
    "img1 = Image.open('./data/image1.png')\n",
    "plt.figure(figsize=(16,10))\n",
    "plt.imshow(img1)\n",
    "img2 = Image.open('./data/image2.png')\n",
    "plt.figure(figsize=(16,10))\n",
    "plt.imshow(img2)\n",
    "img3 = Image.open('./data/image3.png')\n",
    "plt.figure(figsize=(16,10))\n",
    "plt.imshow(img3)\n",
    "plt.show()"
   ]
  },
  {
   "cell_type": "markdown",
   "metadata": {},
   "source": [
    "## 4.2. 가중치 추정\n",
    "\n",
    "- eigenvalue method사용\n",
    "- 큰 의사결정요소부터 계산 후, 세부 의사결정요소 계산\n",
    "- 기존 설치된 충전기의 feature 값의 평균을 비율로 계산해서 점수를 1~5로 나눔\n",
    "\n",
    "\n",
    "### 점수 부여 방식\n",
    "- 1 ~ 1.25 -> 1\n",
    "- 1.25 ~ 1.5 -> 2\n",
    "- 1.5 ~ 1.75 -> 3\n",
    "- 1.75 ~ 2 -> 4\n",
    "- 2이상 -> 5\n",
    "\n",
    "\n",
    "### 계산 과정\n",
    "- 행렬을 A라하면 A * A 내적을 해준 다음 열방향으로 더함\n",
    "- 더한 값을 전체 합으로 나눠줘서 각각을 가중치로 사용"
   ]
  },
  {
   "cell_type": "code",
   "execution_count": null,
   "metadata": {},
   "outputs": [],
   "source": [
    "def Eigenvalue_Method(df):\n",
    "    def cal_eigenvalue(cate, matrix):\n",
    "        N = len(matrix)\n",
    "        for i in range(N):\n",
    "            for j in range(N):\n",
    "                if matrix[i][j]:   # 이미 점수가 부여됬을 경우\n",
    "                    continue\n",
    "                if i==j:           # 같은 feature는 1점 부여\n",
    "                    matrix[i][j] = 1\n",
    "                    continue\n",
    "                a, b = cate[i], cate[j]\n",
    "                if a < b:\n",
    "                    a, b = b, a\n",
    "                    i, j = j,i\n",
    "                \n",
    "                # 평균비율 계산후 점수를 1~5점 부여\n",
    "                if a / b < 1.25:\n",
    "                    matrix[i][j] = 1\n",
    "                    matrix[j][i] = 1\n",
    "                elif a / b < 1.5:\n",
    "                    matrix[i][j] = 2\n",
    "                    matrix[j][i] = 1/2\n",
    "                elif a / b < 1.75:\n",
    "                    matrix[i][j] = 3\n",
    "                    matrix[j][i] = 1/3\n",
    "                elif a / b < 2:\n",
    "                    matrix[i][j] = 4\n",
    "                    matrix[j][i] = 1/4\n",
    "                else:\n",
    "                    matrix[i][j] = 5\n",
    "                    matrix[j][i] = 1/5\n",
    "            eigen_matrix = np.dot(np.array(matrix), np.array(matrix))\n",
    "            eigen_vector = eigen_matrix.sum(axis = 1)\n",
    "            eigen_vector = eigen_vector / eigen_vector.sum()\n",
    "\n",
    "        return eigen_vector\n",
    "    \n",
    "    big_matrix = [[0 for i in range(2)] for i in range(2)]\n",
    "    matrix1 = [[0 for i in range(3)] for i in range(3)]\n",
    "    matrix2 = [[0 for i in range(3)] for i in range(3)]\n",
    "    \n",
    "    big_cate = []\n",
    "    for cate in 의사결정요소:\n",
    "        big_cate.append(df[cate].mean())\n",
    "    \n",
    "    small_cate = []\n",
    "    for feature in features:\n",
    "        small_cate.append(df[feature].mean())\n",
    "\n",
    "    b_eigen_vector = cal_eigenvalue(big_cate, big_matrix)\n",
    "        \n",
    "    eigen_vector1 = cal_eigenvalue(small_cate[:3], matrix1)\n",
    "    eigen_vector2 = cal_eigenvalue(small_cate[3:6], matrix2)\n",
    "    \n",
    "    total_eigenvalue = np.array([])\n",
    "    total_eigenvalue = np.hstack([total_eigenvalue, b_eigen_vector[0] * eigen_vector1])\n",
    "    total_eigenvalue = np.hstack([total_eigenvalue, b_eigen_vector[1] * eigen_vector2])\n",
    "    \n",
    "    return total_eigenvalue"
   ]
  },
  {
   "cell_type": "code",
   "execution_count": null,
   "metadata": {},
   "outputs": [],
   "source": [
    "N = len(scale_df)\n",
    "M = len(충전소설치현황)\n",
    "\n",
    "# 완,급속 충전기 있는 좌표만 뽑음\n",
    "완속충전장소매핑 = {}\n",
    "급속충전장소매핑 = {}\n",
    "\n",
    "for i in tqdm(range(M)):\n",
    "    급완 = 충전소설치현황.loc[i, '급속/완속']\n",
    "    충전장소 = Point(충전소설치현황.loc[i,['lon','lat']].values)\n",
    "\n",
    "    for j in range(N):\n",
    "        if 충전장소.within(scale_df.loc[j, 'geometry']):\n",
    "            if 급완 == '완속':\n",
    "                완속충전장소매핑[i] = j\n",
    "                # print(f\"{i}번째 완속 충전기는 scale_df의 {j}번째 인덱스에 있음!!\")\n",
    "                break\n",
    "            else:\n",
    "                급속충전장소매핑[i] = j\n",
    "                # print(f\"{i}번째 완속 충전기는 scale_df의 {j}번째 인덱스에 있음!!\")\n",
    "                break"
   ]
  },
  {
   "cell_type": "code",
   "execution_count": null,
   "metadata": {},
   "outputs": [],
   "source": [
    "완속_df = scale_df.loc[완속충전장소매핑.values()]\n",
    "급속_df = scale_df.loc[급속충전장소매핑.values()]\n",
    "\n",
    "완속가중치 = Eigenvalue_Method(완속_df)\n",
    "급속가중치 = Eigenvalue_Method(급속_df)\n",
    "\n",
    "scale_df['완속_score'] = 0\n",
    "scale_df['급속_score'] = 0\n",
    "\n",
    "for i in range(6):\n",
    "    scale_df['완속_score'] += scale_df[features[i]]*완속가중치[i]\n",
    "    scale_df['급속_score'] += scale_df[features[i]]*급속가중치[i]"
   ]
  },
  {
   "cell_type": "code",
   "execution_count": null,
   "metadata": {},
   "outputs": [],
   "source": [
    "# 완속가중치\n",
    "for i in range(6):\n",
    "    print(features[i], '     ',완속가중치[i])\n",
    "    if i%3==2:\n",
    "        print()"
   ]
  },
  {
   "cell_type": "code",
   "execution_count": null,
   "metadata": {},
   "outputs": [],
   "source": [
    "# 급속가중치\n",
    "for i in range(6):\n",
    "    print(features[i], '     ',급속가중치[i])\n",
    "    if i%3==2:\n",
    "        print()"
   ]
  },
  {
   "cell_type": "markdown",
   "metadata": {},
   "source": [
    "## 4.3. 충전기 커버 지수\n",
    "\n",
    "## 거리를 이용해 충전기가 커버할수 있는 격자별 점수를 영향력 개념으로 선정\n",
    "\n",
    "- 충전기격자로부터 거리가 가까우면 영향력이 높음\n",
    "- 광양시에 있는 모든 충전기는 모든 격자의 영향을 미칠수 있다고 가정\n",
    "- 충전기의 이용 대수는 영향력의 비례함\n",
    "- 거리의 역수를 이용"
   ]
  },
  {
   "cell_type": "code",
   "execution_count": null,
   "metadata": {},
   "outputs": [],
   "source": [
    "def charger_cover(geometry, slow = False):\n",
    "    lat, lon = geometry.centroid.coords[0][1], geometry.centroid.coords[0][0]\n",
    "    \n",
    "    total = 0\n",
    "    for i in range(M):\n",
    "        급완 = 충전소설치현황.loc[i, '급속/완속']\n",
    "        if not slow and 급완 == '완속':\n",
    "            continue\n",
    "        \n",
    "        이용대수 = 충전소설치현황.loc[i, '이용대수']\n",
    "        y, x = 충전소설치현황.loc[i,['lon','lat']].values\n",
    "        거리 = haversine.haversine((x,y),(lat,lon))\n",
    "        total += (이용대수/(거리))\n",
    "    return total"
   ]
  },
  {
   "cell_type": "code",
   "execution_count": null,
   "metadata": {},
   "outputs": [],
   "source": [
    "for i in range(N):\n",
    "    geometry = scale_df.loc[i, 'geometry']\n",
    "    scale_df.loc[i, '완속_cover'] = charger_cover(geometry, slow = True)\n",
    "    scale_df.loc[i, '급속_cover'] = charger_cover(geometry, slow = False)\n",
    "\n",
    "scale_df['완속_cover_scale'] = MinMaxScaler(scale_df['완속_cover'])+1\n",
    "scale_df['급속_cover_scale'] = MinMaxScaler(scale_df['급속_cover'])+1\n",
    "\n",
    "scale_df['완속_scale_score'] = scale_df['완속_score'] * (1/scale_df['완속_cover_scale'])\n",
    "scale_df['급속_scale_score'] = scale_df['급속_score'] * (1/scale_df['급속_cover_scale'])"
   ]
  },
  {
   "cell_type": "code",
   "execution_count": null,
   "metadata": {},
   "outputs": [],
   "source": [
    "# scale_df 저장\n",
    "scale_df.to_file('./data/scale_df.geojson', driver='GeoJSON')"
   ]
  },
  {
   "cell_type": "markdown",
   "metadata": {},
   "source": [
    "# 5. 최종 충전소 위치 선정"
   ]
  },
  {
   "cell_type": "markdown",
   "metadata": {},
   "source": [
    "### 데이터 불러오기"
   ]
  },
  {
   "cell_type": "code",
   "execution_count": 3,
   "metadata": {},
   "outputs": [],
   "source": [
    "# 데이터 불러오기\n",
    "input_path = pathlib.Path('./data')\n",
    "if not input_path.is_dir():\n",
    "    input_path.mkdir()\n",
    "\n",
    "GetCompasData('SBJ_2009_001', '1', input_path.joinpath('01.광양시_충전소설치현황.csv'))\n",
    "GetCompasData('SBJ_2009_001', '2', input_path.joinpath('02.광양시_주차장_공간정보.csv'))\n",
    "GetCompasData('SBJ_2009_001', '14', input_path.joinpath('14.광양시_소유지정보.geojson'))\n",
    "GetCompasData('SBJ_2009_001', '15', input_path.joinpath('15.광양시_건물정보.geojson'))\n",
    "GetCompasData('SBJ_2009_001', '23', input_path.joinpath('23.광양시_개발행위제한구역.geojson'))\n",
    "GetCompasData('SBJ_2009_001', '27', input_path.joinpath('27.광양시_도시계획(유통공급시설).geojson'))\n",
    "\n",
    "# COMPAS 데이터\n",
    "충전소 = pd.read_csv('./data/01.광양시_충전소설치현황.csv')\n",
    "주차장 = pd.read_csv('./data/02.광양시_주차장_공간정보.csv')\n",
    "소유지정보 = gpd.read_file('./data/14.광양시_소유지정보.geojson')\n",
    "건물정보 = gpd.read_file('./data/15.광양시_건물정보.geojson')\n",
    "개발제한 = gpd.read_file('./data/23.광양시_개발행위제한구역.geojson')\n",
    "유통공급시설 = gpd.read_file('./data/27.광양시_도시계획(유통공급시설).geojson')\n",
    "행정경계 = gpd.read_file('20.광양시_행정경계(읍면동).geojson')\n",
    "\n",
    "# scale_df\n",
    "scale_df = gpd.read_file('./data/scale_df.geojson')"
   ]
  },
  {
   "cell_type": "markdown",
   "metadata": {},
   "source": [
    "## 5.1. 완/급속 상위 20개 추출\n",
    "\n",
    "- 각 충전소들의 간격은 250m 이상 유지 -> 격자 한개당 한개 설치\n",
    "- 급속, 완속 점수가 높은순대로 한개씩 추출\n",
    "- 추출후 충전기 cover 점수에 반영\n",
    "- 급속 추출시 사유지를 정의"
   ]
  },
  {
   "cell_type": "code",
   "execution_count": 10,
   "metadata": {},
   "outputs": [],
   "source": [
    "N = len(scale_df)\n",
    "M = len(충전소)\n",
    "\n",
    "def new_charger_cover(geometry, total, slow = False):\n",
    "    lat, long = geometry.centroid.coords[0][1], geometry.centroid.coords[0][0]\n",
    "    \n",
    "    급완 = 충전소_test.loc[len(충전소_test)-1, '급속/완속']\n",
    "    if not slow and 급완 == '완속':\n",
    "        return total\n",
    "        \n",
    "    이용대수 = 충전소_test.loc[len(충전소_test)-1, '이용대수']\n",
    "    y, x = 충전소_test.loc[len(충전소_test)-1,['lon','lat']].values\n",
    "    거리 = haversine.haversine((x,y),(lat,long))\n",
    "    total += (이용대수/(거리))\n",
    "    return total"
   ]
  },
  {
   "cell_type": "code",
   "execution_count": 13,
   "metadata": {},
   "outputs": [],
   "source": [
    "def MinMaxScaler(values):\n",
    "    min_value = values.min()\n",
    "    max_value = values.max()\n",
    "    return (values-min_value)/(max_value - min_value)"
   ]
  },
  {
   "cell_type": "code",
   "execution_count": 11,
   "metadata": {},
   "outputs": [],
   "source": [
    "# 선정된 급속 격자의 gid를 input으로 하는 최적 좌표 구하는 함수 (list형으로 return)\n",
    "def bestBuilding_quick(gid):\n",
    "    # 설치할 격자의 geometry 추출\n",
    "    if rank >= 2:\n",
    "        return -1\n",
    "    grid = gdf.loc[gid,'geometry']\n",
    "    \n",
    "    # 격자 내 주차장 있는지 확인\n",
    "    lst = []\n",
    "    for i in 주차장.index:\n",
    "        point = Point(주차장['lon'][i], 주차장['lat'][i])\n",
    "        if point.within(grid):\n",
    "            lst.append(i)\n",
    "    주차장_lst = 주차장.loc[lst]\n",
    "\n",
    "    # 주차장 존재하면, 주차면수 많은 순으로 나열 \n",
    "    if not 주차장_lst.empty:\n",
    "        주차장_lst.sort_values(by='주차면수', ascending=False, inplace = True)\n",
    "        point = Point(주차장_lst.iloc[0]['lon'], 주차장_lst.iloc[0]['lat'])\n",
    "        return 주차장_lst\n",
    "    \n",
    "    # 건물 추출\n",
    "    else: \n",
    "        # 설치 격자 내 모든 건물 정보 갖고오기\n",
    "        lst = []\n",
    "        for i in 건물정보.index:\n",
    "            if 건물정보['geometry'][i].intersects(grid):\n",
    "                lst.append(i)\n",
    "        건물_lst = 건물정보.loc[lst]\n",
    "\n",
    "        # 충전소 기설치된 건물 빼기\n",
    "        for i in 충전소.index:\n",
    "            point = Point(충전소['lon'][i], 충전소['lat'][i])\n",
    "            for j in 건물_lst.index:\n",
    "                if point.within(건물_lst['geometry'][j]):\n",
    "                    건물_lst.drop(j, inplace=True)\n",
    "\n",
    "        # 개발행위제한구역 빼기\n",
    "        for i in 개발제한.index:\n",
    "            for j in 건물_lst.index:\n",
    "                if 건물_lst['geometry'][j].intersects(개발제한['geometry'][i]):\n",
    "                    건물_lst.drop(j, inplace=True)\n",
    "\n",
    "        # 사유지 빼기\n",
    "        사유지_lst = ['개인','법인','종중','기타단체','종교단체','일본인, 창씨명등','외국인, 외국공공기관']\n",
    "        사유지 = 소유지정보[소유지정보['소유구분명'].isin(사유지_lst)]\n",
    "        사유지.reset_index(drop=True, inplace=True)\n",
    "\n",
    "        for i in 사유지.index:\n",
    "            for j in 건물_lst.index:\n",
    "                if 건물_lst['geometry'][j].intersects(사유지['geometry'][i]):\n",
    "                    건물_lst.drop(j, inplace=True)\n",
    "\n",
    "        # 주유소 빼기\n",
    "        주유소 = 소유지정보[소유지정보['지목']=='주유소용지']\n",
    "        주유소.reset_index(drop=True, inplace = True)\n",
    "\n",
    "        for i in 주유소.index:\n",
    "            for j in 건물_lst.index:\n",
    "                if 건물_lst['geometry'][j].intersects(주유소['geometry'][i]):\n",
    "                    건물_lst.drop(j, inplace = True)\n",
    "\n",
    "        # 유통공급시설 빼기\n",
    "        for i in 유통공급시설.index:\n",
    "            for j in 건물_lst.index:\n",
    "                if 건물_lst['geometry'][j].intersects(유통공급시설['geometry'][i]):\n",
    "                    건물_lst.drop(j, inplace = True)\n",
    "        건물_lst.reset_index(drop=True, inplace = True)\n",
    "\n",
    "        # 건물연면적 비교\n",
    "        건물_lst.sort_values(by='건물연면적', ascending=False, inplace = True)\n",
    "\n",
    "        if 건물_lst.empty:\n",
    "            return -1 \n",
    "        else:\n",
    "            # 건물의 list return\n",
    "            return 건물_lst\n",
    "\n",
    "# 선정된 완속 격자의 gid를 input으로 하는 최적 좌표 구하는 함수 (list형으로 return)\n",
    "def bestBuilding_standard(gid):\n",
    "    # 설치할 격자의 geometry 추출\n",
    "    if rank >= 2:\n",
    "        return -1\n",
    "    grid = gdf.loc[gid,'geometry']\n",
    "    \n",
    "    # 격자 내 주차장 있는지 확인\n",
    "    lst = []\n",
    "    for i in 주차장.index:\n",
    "        point = Point(주차장['lon'][i], 주차장['lat'][i])\n",
    "        if point.within(grid):\n",
    "            lst.append(i)\n",
    "    주차장_lst = 주차장.loc[lst]\n",
    "\n",
    "    # 주차장 존재하면, 주차면수 많은 순으로 나열 \n",
    "    if not 주차장_lst.empty:\n",
    "        주차장_lst.sort_values(by='주차면수', ascending=False, inplace = True)\n",
    "        point = Point(주차장_lst.iloc[0]['lon'], 주차장_lst.iloc[0]['lat'])\n",
    "        return 주차장_lst\n",
    "    \n",
    "    # 건물 추출\n",
    "    else: \n",
    "        # 설치 격자 내 모든 건물 정보 갖고오기\n",
    "        lst = []\n",
    "        for i in 건물정보.index:\n",
    "            if 건물정보['geometry'][i].intersects(grid):\n",
    "                lst.append(i)\n",
    "        건물_lst = 건물정보.loc[lst]\n",
    "\n",
    "        # 충전소 기설치된 건물 빼기\n",
    "        for i in 충전소.index:\n",
    "            point = Point(충전소['lon'][i], 충전소['lat'][i])\n",
    "            for j in 건물_lst.index:\n",
    "                if point.within(건물_lst['geometry'][j]):\n",
    "                    건물_lst.drop(j, inplace=True)\n",
    "\n",
    "        # 개발행위제한구역 빼기\n",
    "        for i in 개발제한.index:\n",
    "            for j in 건물_lst.index:\n",
    "                if 건물_lst['geometry'][j].intersects(개발제한['geometry'][i]):\n",
    "                    건물_lst.drop(j, inplace=True)\n",
    "\n",
    "        # 주유소 빼기\n",
    "        주유소 = 소유지정보[소유지정보['지목']=='주유소용지']\n",
    "        주유소.reset_index(drop=True, inplace = True)\n",
    "\n",
    "        for i in 주유소.index:\n",
    "            for j in 건물_lst.index:\n",
    "                if 건물_lst['geometry'][j].intersects(주유소['geometry'][i]):\n",
    "                    건물_lst.drop(j, inplace = True)\n",
    "\n",
    "        # 유통공급시설 빼기\n",
    "        for i in 유통공급시설.index:\n",
    "            for j in 건물_lst.index:\n",
    "                if 건물_lst['geometry'][j].intersects(유통공급시설['geometry'][i]):\n",
    "                    건물_lst.drop(j, inplace = True)\n",
    "        건물_lst.reset_index(drop=True, inplace = True)\n",
    "\n",
    "        # 건물연면적 비교\n",
    "        건물_lst.sort_values(by='건물연면적', ascending=False, inplace = True)\n",
    "        \n",
    "        if 건물_lst.empty:\n",
    "            return -1 \n",
    "        else:\n",
    "            # 건물의 list return\n",
    "            return 건물_lst"
   ]
  },
  {
   "cell_type": "code",
   "execution_count": 6,
   "metadata": {},
   "outputs": [],
   "source": [
    "features = ['생산가능인구수', '자동차보유*전기차비율', '토지이용압축도', \n",
    "            '교통량', '주차장접근성', '주차장흡인력']\n",
    "\n",
    "의사결정요소 = ['밀집도', '접근성']"
   ]
  },
  {
   "cell_type": "code",
   "execution_count": 7,
   "metadata": {},
   "outputs": [],
   "source": [
    "# 소유지 정보에 Null값이 많아, 건물정보에서 사유지임을 알 수 있는 '세부용도명' 추출\n",
    "사유지_정의 = ['아파트', '기타일반숙박시설', '숙박시설', '일반숙박시설','기숙사', '여인숙', '여관', '생활숙박시설',\n",
    "         '단독주택','다가구주택', '다세대주택', '연립주택', '공동주택', '다중주택']"
   ]
  },
  {
   "cell_type": "code",
   "execution_count": 21,
   "metadata": {},
   "outputs": [],
   "source": [
    "# scale_df\n",
    "scale_df = gpd.read_file('./data/scale_df.geojson')"
   ]
  },
  {
   "cell_type": "code",
   "execution_count": 22,
   "metadata": {
    "scrolled": false
   },
   "outputs": [
    {
     "name": "stdout",
     "output_type": "stream",
     "text": [
      "순번\tX 좌표(경도)\tY 좌표(위도)\t충전소 구분\n",
      "\n",
      "1\t127.5755321\t34.97710286\t급속\n",
      "\n",
      "2\t127.5753236\t34.96525635\t완속\n",
      "\n",
      "3\t127.59037479999999\t34.97701647\t급속\n",
      "\n",
      "4\t127.6897749\t34.93306421\t완속\n",
      "\n",
      "5\t127.5778804\t34.96357808\t급속\n",
      "\n",
      "6\t127.69542790000001\t34.936251899999995\t완속\n",
      "\n",
      "7\t127.6968827\t34.93059282\t급속\n",
      "\n",
      "8\t127.6898984358978\t34.94465702552794\t완속\n",
      "\n",
      "9\t127.607064\t34.97400612\t급속\n",
      "\n",
      "10\t127.69741553557844\t34.93346680923373\t완속\n",
      "\n",
      "11\t127.57958670000001\t34.98027338\t급속\n",
      "\n",
      "12\t127.57295350891513\t34.96288344338771\t완속\n",
      "\n",
      "13\t127.6913943\t34.95307583\t급속\n",
      "\n",
      "14\t127.69299202145802\t34.94242542221019\t완속\n",
      "\n",
      "15\t127.7170155\t34.93423236\t급속\n",
      "\n",
      "16\t127.58359618053825\t34.980973586181214\t완속\n",
      "\n",
      "17\t127.57664240000001\t34.97438687\t급속\n",
      "\n",
      "18\t127.58525379999999\t34.97645745\t완속\n",
      "\n",
      "19\t127.68727545396278\t34.94549468808064\t급속\n",
      "\n",
      "20\t127.590331\t34.97385716\t완속\n",
      "\n",
      "21\t127.7179756\t34.96529036\t급속\n",
      "\n",
      "22\t127.68773229999998\t34.94305392\t완속\n",
      "\n",
      "23\t127.6099135\t34.97084895\t급속\n",
      "\n",
      "24\t127.5833946\t34.97364516\t완속\n",
      "\n",
      "25\t127.76205630000001\t34.94472048\t급속\n",
      "\n",
      "26\t127.6993505\t34.9341395\t완속\n",
      "\n",
      "27\t127.71928419999999\t35.01841682\t급속\n",
      "\n",
      "28\t127.6893126\t34.95050872\t완속\n",
      "\n",
      "29\t127.5838952\t34.97836658\t급속\n",
      "\n",
      "30\t127.56580503398696\t34.96911179002555\t완속\n",
      "\n",
      "31\t127.76059070000001\t34.97636174\t급속\n",
      "\n",
      "32\t127.69349199999999\t34.93800771\t완속\n",
      "\n",
      "33\t127.7166311\t34.93659769\t급속\n",
      "\n",
      "34\t127.6988915\t34.93091425\t완속\n",
      "\n",
      "35\t127.55131300318637\t34.96325875534455\t급속\n",
      "\n",
      "36\t127.5866619\t34.97508013\t완속\n",
      "\n",
      "37\t127.57076910583864\t34.9688023280212\t급속\n",
      "\n",
      "38\t127.6094300868202\t34.972946744793106\t완속\n",
      "\n",
      "39\t127.5845858\t34.97563677\t급속\n",
      "\n",
      "40\t127.68961159999999\t34.93634835\t완속\n",
      "\n"
     ]
    }
   ],
   "source": [
    "#초기화\n",
    "scale_df['count'] = 0   # 격자의 충전기 갯수 추가\n",
    "gdf = scale_df.copy()\n",
    "gdf.set_index(scale_df['gid'], inplace = True)\n",
    "\n",
    "충전소_test = 충전소[['급속/완속', '이용대수', 'lon', 'lat']].copy()\n",
    "\n",
    "total_count = 0\n",
    "#quick_count = 0\n",
    "#standard_count = 0\n",
    "standard_location = {}\n",
    "quick_location = {}\n",
    "standard_info = []\n",
    "quick_info = []\n",
    "\n",
    "print('순번\\tX 좌표(경도)\\tY 좌표(위도)\\t충전소 구분\\n')\n",
    "\n",
    "# 20개씩 추출\n",
    "for i in range(20):\n",
    "    index = 0\n",
    "    # 급속 점수 순으로 정렬\n",
    "    급속_sorted = gdf.drop(columns = 'gid').sort_values(by='급속_scale_score' ,ascending=False).reset_index()\n",
    "    rank = 0\n",
    "    quick = 급속_sorted.loc[index, 'gid']\n",
    "    # 급속 건물 추출\n",
    "    quick_buildings = bestBuilding_quick(quick)\n",
    "\n",
    "    while 1:\n",
    "        # 이미 격자에 충전소 설치되거나 설치할수 있는 건물이 없는경우 후순위 격자의 급속건물 추출\n",
    "        if 급속_sorted.loc[index, 'count'] >= 1 or rank > 1 or type(quick_buildings) == int or rank >= len(quick_buildings):\n",
    "            index += 1\n",
    "            rank = 0\n",
    "            quick = 급속_sorted.loc[index, 'gid']\n",
    "            quick_buildings = bestBuilding_quick(quick)\n",
    "            continue\n",
    "        \n",
    "        # 위치좌표와 건물이름 추출\n",
    "        try:\n",
    "            point = quick_buildings.iloc[rank]['geometry'].centroid\n",
    "            result_quick = [quick_buildings.iloc[rank]['세부용도명'], (point.x, point.y)]\n",
    "        except:\n",
    "            point = Point(quick_buildings.iloc[rank]['lon'], quick_buildings.iloc[rank]['lat'])\n",
    "            result_quick = [quick_buildings.iloc[rank]['주차장명칭'], (point.x, point.y)]\n",
    "        \n",
    "        # 사유지 정의에 포함된 건물이 추출된경우 후순위 건물 추출\n",
    "        if result_quick[0] in 사유지_정의:\n",
    "            rank += 1\n",
    "            continue\n",
    "        \n",
    "        # 추출된 건물이 이미 완속건물이나 급속건물에 있는 경우\n",
    "        if result_quick in quick_info or result_quick in standard_info:\n",
    "            rank += 1\n",
    "            continue\n",
    "        \n",
    "        \n",
    "        ind = scale_df[scale_df['gid'] == quick].index\n",
    "        scale_df.loc[ind,'count'] += 1   # 격자의 count를 증가\n",
    "        total_count += 1\n",
    "        quick_info.append(result_quick)\n",
    "        quick_location[quick] = result_quick\n",
    "        print(f'{total_count}\\t{point.x}\\t{point.y}\\t급속\\n')\n",
    "\n",
    "        충전소_test.loc[len(충전소_test)] = ['급속', 1, result_quick[1][0], result_quick[1][1]]   # 충전소데이터에 update\n",
    "        \n",
    "        # 새로운 충전소 고려해서 충전소 cover점수 업데이트\n",
    "        for i in range(N):\n",
    "            geometry = scale_df.loc[i, 'geometry']\n",
    "            total = scale_df.loc[i, '급속_cover']\n",
    "            scale_df.loc[i, '급속_cover'] = new_charger_cover(geometry, total, slow = False)\n",
    "            \n",
    "        \n",
    "        scale_df['급속_cover_scale'] = MinMaxScaler(scale_df['급속_cover'])+1\n",
    "        scale_df['급속_scale_score'] = scale_df['급속_score'] * (1/scale_df['급속_cover_scale'])\n",
    "        \n",
    "        gdf = scale_df.copy()\n",
    "        gdf.set_index(scale_df['gid'], inplace = True)\n",
    "        break\n",
    "\n",
    "\n",
    "\n",
    "    index = 0\n",
    "    # 완속 점수 순으로 정렬\n",
    "    완속_sorted = gdf.drop(columns = 'gid').sort_values(by='완속_scale_score' ,ascending=False).reset_index()\n",
    "    rank = 0\n",
    "    standard = 완속_sorted.loc[index, 'gid']\n",
    "    # 완속 건물 추출\n",
    "    standard_buildings = bestBuilding_standard(standard)\n",
    "    while 1:\n",
    "        # 이미 격자에 충전소 설치되거나 설치할수 있는 건물이 없는경우 후순위 격자의 완속건물 추출\n",
    "        if 완속_sorted.loc[index, 'count'] >= 1 or rank>1 or type(standard_buildings) == int or rank >= len(standard_buildings):\n",
    "            index += 1\n",
    "            rank = 0\n",
    "            standard = 완속_sorted.loc[index, 'gid']\n",
    "            standard_buildings = bestBuilding_standard(standard)\n",
    "            continue\n",
    "        \n",
    "        # 위치좌표와 건물이름 추출\n",
    "        try:\n",
    "            point = standard_buildings.iloc[rank]['geometry'].centroid\n",
    "            result_standard = [standard_buildings.iloc[rank]['세부용도명'], (point.x, point.y)]\n",
    "        except:\n",
    "            point = Point(standard_buildings.iloc[rank]['lon'], standard_buildings.iloc[rank]['lat'])\n",
    "            result_standard = [standard_buildings.iloc[rank]['주차장명칭'], (point.x, point.y)]\n",
    "\n",
    "        # 추출된 건물이 이미 완속건물이나 급속건물에 있는 경우\n",
    "        if result_standard in quick_info or result_standard in standard_info:\n",
    "            rank += 1\n",
    "            continue\n",
    "        \n",
    "        ind = scale_df[scale_df['gid'] == standard].index\n",
    "        scale_df.loc[ind,'count'] += 1   # 격자의 count를 증가\n",
    "        total_count += 1\n",
    "        standard_info.append(result_standard)\n",
    "        standard_location[standard] = result_standard\n",
    "        print(f'{total_count}\\t{point.x}\\t{point.y}\\t완속\\n')\n",
    "        \n",
    "        충전소_test.loc[len(충전소_test)] = ['완속', 1, result_standard[1][0], result_standard[1][1]]   # 충전소데이터에 update\n",
    "        \n",
    "        # 새로운 충전소 고려해서 충전소 cover점수 업데이트\n",
    "        for i in range(N):\n",
    "            geometry = scale_df.loc[i, 'geometry']\n",
    "            total = scale_df.loc[i, '완속_cover']\n",
    "            scale_df.loc[i, '완속_cover'] = new_charger_cover(geometry, total, slow = True)\n",
    "        \n",
    "        scale_df['완속_cover_scale'] = MinMaxScaler(scale_df['완속_cover'])+1\n",
    "        scale_df['완속_scale_score'] = scale_df['완속_score'] * (1/scale_df['완속_cover_scale'])\n",
    "        \n",
    "        gdf = scale_df.copy()\n",
    "        gdf.set_index(scale_df['gid'], inplace = True)\n",
    "        break"
   ]
  },
  {
   "cell_type": "markdown",
   "metadata": {},
   "source": [
    "## 5.2. 시각화\n",
    "\n",
    "- 새롭게 설치된 충전소 동별로 시각화\n",
    "- 새로운 충전소 마커\n",
    "- 기존 충전소 원"
   ]
  },
  {
   "cell_type": "code",
   "execution_count": 34,
   "metadata": {},
   "outputs": [],
   "source": [
    "# 좌표 추출\n",
    "완속좌표 = pd.DataFrame(standard_location).T\n",
    "완속좌표.rename({0: '건물명', 1:'좌표'}, axis = 1, inplace = True)\n",
    "급속좌표 = pd.DataFrame(quick_location).T\n",
    "급속좌표.rename({0: '건물명', 1:'좌표'}, axis = 1, inplace = True)\n",
    "\n",
    "for i in 완속좌표.index:\n",
    "    완속좌표.loc[i, 'lon'] = 완속좌표.loc[i, '좌표'][0]\n",
    "    완속좌표.loc[i, 'lat'] = 완속좌표.loc[i, '좌표'][1]\n",
    "for i in 급속좌표.index:\n",
    "    급속좌표.loc[i, 'lon'] = 급속좌표.loc[i, '좌표'][0]\n",
    "    급속좌표.loc[i, 'lat'] = 급속좌표.loc[i, '좌표'][1]\n",
    "\n",
    "행정경계['standard_val'] = 0\n",
    "행정경계['quick_val'] = 0\n",
    "\n",
    "# 새롭게 설치될 충전소의 행정구역 파악\n",
    "for i in 완속좌표.index:\n",
    "    완속좌표장소 = Point(완속좌표.loc[i, ['lon', 'lat']].values)\n",
    "    for j in range(len(행정경계)):\n",
    "        if 완속좌표장소.within(행정경계.loc[j, 'geometry']):\n",
    "            행정경계.loc[j, 'standard_val'] += 1\n",
    "            break\n",
    "\n",
    "for i in 급속좌표.index:\n",
    "    급속좌표장소 = Point(급속좌표.loc[i, ['lon', 'lat']].values)\n",
    "    for j in range(len(행정경계)):\n",
    "        if 급속좌표장소.within(행정경계.loc[j, 'geometry']):\n",
    "            행정경계.loc[j, 'quick_val'] += 1\n",
    "            break\n",
    "            \n",
    "convert = {'봉강면':'Bonggang-myeon', '옥룡면':'Ongnyong-myeon', '옥곡면':'Okgok-myeon',\n",
    "          '진상면':'Jinsang-myeon', '진월면':'Jinwol-myeon', '다압면':'Daap-myeon',\n",
    "          '골약동':'Golyag-dong', '중마동':'Jungma-dong', '광영동':'Gwangyeong-dong',\n",
    "          '태인동':'Taein-dong', '금호동':'Geumho-dong', '광양읍':'Gwangyang-eub'}\n",
    "\n",
    "for i in range(len(행정경계)):\n",
    "    행정경계.loc[i, 'ADM_DR_NM'] = convert[행정경계.loc[i, 'ADM_DR_NM']]\n",
    "\n",
    "행정경계 = pd.melt(행정경계, id_vars=['ADM_DR_CD', 'ADM_DR_NM' ,'geometry'])"
   ]
  },
  {
   "cell_type": "code",
   "execution_count": 35,
   "metadata": {},
   "outputs": [
    {
     "data": {
      "image/png": "[encoded data removed]",
      "text/plain": [
       "<Figure size 864x720 with 1 Axes>"
      ]
     },
     "metadata": {
      "image/png": {
       "height": 588,
       "width": 799
      },
      "needs_background": "light"
     },
     "output_type": "display_data"
    }
   ],
   "source": [
    "# 새롭게 설치될 충전소의 행정구역 시각화\n",
    "\n",
    "plt.figure(figsize=(12, 10))\n",
    "sns.barplot(data=행정경계, x='value', y='ADM_DR_NM', hue = 'variable', orient='h')\n",
    "plt.show()"
   ]
  },
  {
   "cell_type": "code",
   "execution_count": 23,
   "metadata": {},
   "outputs": [],
   "source": [
    "광양시_지도 = folium.Map(location = (34.940604, 127.695931),\n",
    "                       zoom_start = 12,\n",
    "                       tiles='http://api.vworld.kr/req/wmts/1.0.0/7C5AEFC9-57EF-35BD-A78A-74C1DD916554/Base/{z}/{y}/{x}.png',\n",
    "               attr='My Data Attribution')\n",
    "\n",
    "# 기 설치되어있는 충전소 circle마커로 시각화\n",
    "for i in 충전소.index:\n",
    "    popup_name = 충전소['충전소명'][i] + '-' + 충전소['급속/완속'][i]\n",
    "    if 충전소['급속/완속'][i] == '급속':\n",
    "        icon_color = 'red' # 급속: 빨강\n",
    "    else:\n",
    "        icon_color = 'blue' # 완속: 파랑\n",
    "    \n",
    "    folium.CircleMarker(\n",
    "        location = (충전소['lat'][i], 충전소['lon'][i]),\n",
    "        popup = popup_name,\n",
    "        color = icon_color,\n",
    "        radius = 5\n",
    "    ).add_to(광양시_지도)\n",
    "\n",
    "# 새롭게 설치된 충전소 마커로 시각화\n",
    "for gid, geometry in standard_location.items():\n",
    "    folium.Marker(\n",
    "        location = (geometry[1][1], geometry[1][0]),\n",
    "        popup = geometry[0],\n",
    "        icon = folium.Icon(color='blue'),   # 완속: 파랑\n",
    "    ).add_to(광양시_지도)\n",
    "\n",
    "for gid, geometry in quick_location.items():\n",
    "    folium.Marker(\n",
    "        location = (geometry[1][1], geometry[1][0]),\n",
    "        popup = geometry[0],\n",
    "        icon = folium.Icon(color='red'),   # 급속: 빨강\n",
    "    ).add_to(광양시_지도)\n",
    "\n",
    "광양시_지도.save('완속급속20개.html')"
   ]
  },
  {
   "cell_type": "code",
   "execution_count": 61,
   "metadata": {},
   "outputs": [
    {
     "data": {
      "text/html": [
       "<div>\n",
       "<style scoped>\n",
       "    .dataframe tbody tr th:only-of-type {\n",
       "        vertical-align: middle;\n",
       "    }\n",
       "\n",
       "    .dataframe tbody tr th {\n",
       "        vertical-align: top;\n",
       "    }\n",
       "\n",
       "    .dataframe thead th {\n",
       "        text-align: right;\n",
       "    }\n",
       "</style>\n",
       "<table border=\"1\" class=\"dataframe\">\n",
       "  <thead>\n",
       "    <tr style=\"text-align: right;\">\n",
       "      <th></th>\n",
       "      <th>순번</th>\n",
       "      <th>X 좌표(경도)</th>\n",
       "      <th>Y 좌표(위도)</th>\n",
       "      <th>충전소 구분</th>\n",
       "    </tr>\n",
       "  </thead>\n",
       "  <tbody>\n",
       "    <tr>\n",
       "      <th>0</th>\n",
       "      <td>1</td>\n",
       "      <td>127.575532</td>\n",
       "      <td>34.977103</td>\n",
       "      <td>급속</td>\n",
       "    </tr>\n",
       "    <tr>\n",
       "      <th>1</th>\n",
       "      <td>2</td>\n",
       "      <td>127.575324</td>\n",
       "      <td>34.965256</td>\n",
       "      <td>완속</td>\n",
       "    </tr>\n",
       "    <tr>\n",
       "      <th>2</th>\n",
       "      <td>3</td>\n",
       "      <td>127.590375</td>\n",
       "      <td>34.977016</td>\n",
       "      <td>급속</td>\n",
       "    </tr>\n",
       "    <tr>\n",
       "      <th>3</th>\n",
       "      <td>4</td>\n",
       "      <td>127.689775</td>\n",
       "      <td>34.933064</td>\n",
       "      <td>완속</td>\n",
       "    </tr>\n",
       "    <tr>\n",
       "      <th>4</th>\n",
       "      <td>5</td>\n",
       "      <td>127.577880</td>\n",
       "      <td>34.963578</td>\n",
       "      <td>급속</td>\n",
       "    </tr>\n",
       "    <tr>\n",
       "      <th>5</th>\n",
       "      <td>6</td>\n",
       "      <td>127.695428</td>\n",
       "      <td>34.936252</td>\n",
       "      <td>완속</td>\n",
       "    </tr>\n",
       "    <tr>\n",
       "      <th>6</th>\n",
       "      <td>7</td>\n",
       "      <td>127.696883</td>\n",
       "      <td>34.930593</td>\n",
       "      <td>급속</td>\n",
       "    </tr>\n",
       "    <tr>\n",
       "      <th>7</th>\n",
       "      <td>8</td>\n",
       "      <td>127.689898</td>\n",
       "      <td>34.944657</td>\n",
       "      <td>완속</td>\n",
       "    </tr>\n",
       "    <tr>\n",
       "      <th>8</th>\n",
       "      <td>9</td>\n",
       "      <td>127.607064</td>\n",
       "      <td>34.974006</td>\n",
       "      <td>급속</td>\n",
       "    </tr>\n",
       "    <tr>\n",
       "      <th>9</th>\n",
       "      <td>10</td>\n",
       "      <td>127.697416</td>\n",
       "      <td>34.933467</td>\n",
       "      <td>완속</td>\n",
       "    </tr>\n",
       "    <tr>\n",
       "      <th>10</th>\n",
       "      <td>11</td>\n",
       "      <td>127.579587</td>\n",
       "      <td>34.980273</td>\n",
       "      <td>급속</td>\n",
       "    </tr>\n",
       "    <tr>\n",
       "      <th>11</th>\n",
       "      <td>12</td>\n",
       "      <td>127.572954</td>\n",
       "      <td>34.962883</td>\n",
       "      <td>완속</td>\n",
       "    </tr>\n",
       "    <tr>\n",
       "      <th>12</th>\n",
       "      <td>13</td>\n",
       "      <td>127.691394</td>\n",
       "      <td>34.953076</td>\n",
       "      <td>급속</td>\n",
       "    </tr>\n",
       "    <tr>\n",
       "      <th>13</th>\n",
       "      <td>14</td>\n",
       "      <td>127.692992</td>\n",
       "      <td>34.942425</td>\n",
       "      <td>완속</td>\n",
       "    </tr>\n",
       "    <tr>\n",
       "      <th>14</th>\n",
       "      <td>15</td>\n",
       "      <td>127.717016</td>\n",
       "      <td>34.934232</td>\n",
       "      <td>급속</td>\n",
       "    </tr>\n",
       "    <tr>\n",
       "      <th>15</th>\n",
       "      <td>16</td>\n",
       "      <td>127.583596</td>\n",
       "      <td>34.980974</td>\n",
       "      <td>완속</td>\n",
       "    </tr>\n",
       "    <tr>\n",
       "      <th>16</th>\n",
       "      <td>17</td>\n",
       "      <td>127.576642</td>\n",
       "      <td>34.974387</td>\n",
       "      <td>급속</td>\n",
       "    </tr>\n",
       "    <tr>\n",
       "      <th>17</th>\n",
       "      <td>18</td>\n",
       "      <td>127.585254</td>\n",
       "      <td>34.976457</td>\n",
       "      <td>완속</td>\n",
       "    </tr>\n",
       "    <tr>\n",
       "      <th>18</th>\n",
       "      <td>19</td>\n",
       "      <td>127.687275</td>\n",
       "      <td>34.945495</td>\n",
       "      <td>급속</td>\n",
       "    </tr>\n",
       "    <tr>\n",
       "      <th>19</th>\n",
       "      <td>20</td>\n",
       "      <td>127.590331</td>\n",
       "      <td>34.973857</td>\n",
       "      <td>완속</td>\n",
       "    </tr>\n",
       "    <tr>\n",
       "      <th>20</th>\n",
       "      <td>21</td>\n",
       "      <td>127.717976</td>\n",
       "      <td>34.965290</td>\n",
       "      <td>급속</td>\n",
       "    </tr>\n",
       "    <tr>\n",
       "      <th>21</th>\n",
       "      <td>22</td>\n",
       "      <td>127.687732</td>\n",
       "      <td>34.943054</td>\n",
       "      <td>완속</td>\n",
       "    </tr>\n",
       "    <tr>\n",
       "      <th>22</th>\n",
       "      <td>23</td>\n",
       "      <td>127.609914</td>\n",
       "      <td>34.970849</td>\n",
       "      <td>급속</td>\n",
       "    </tr>\n",
       "    <tr>\n",
       "      <th>23</th>\n",
       "      <td>24</td>\n",
       "      <td>127.583395</td>\n",
       "      <td>34.973645</td>\n",
       "      <td>완속</td>\n",
       "    </tr>\n",
       "    <tr>\n",
       "      <th>24</th>\n",
       "      <td>25</td>\n",
       "      <td>127.762056</td>\n",
       "      <td>34.944720</td>\n",
       "      <td>급속</td>\n",
       "    </tr>\n",
       "    <tr>\n",
       "      <th>25</th>\n",
       "      <td>26</td>\n",
       "      <td>127.699350</td>\n",
       "      <td>34.934140</td>\n",
       "      <td>완속</td>\n",
       "    </tr>\n",
       "    <tr>\n",
       "      <th>26</th>\n",
       "      <td>27</td>\n",
       "      <td>127.719284</td>\n",
       "      <td>35.018417</td>\n",
       "      <td>급속</td>\n",
       "    </tr>\n",
       "    <tr>\n",
       "      <th>27</th>\n",
       "      <td>28</td>\n",
       "      <td>127.689313</td>\n",
       "      <td>34.950509</td>\n",
       "      <td>완속</td>\n",
       "    </tr>\n",
       "    <tr>\n",
       "      <th>28</th>\n",
       "      <td>29</td>\n",
       "      <td>127.583895</td>\n",
       "      <td>34.978367</td>\n",
       "      <td>급속</td>\n",
       "    </tr>\n",
       "    <tr>\n",
       "      <th>29</th>\n",
       "      <td>30</td>\n",
       "      <td>127.565805</td>\n",
       "      <td>34.969112</td>\n",
       "      <td>완속</td>\n",
       "    </tr>\n",
       "    <tr>\n",
       "      <th>30</th>\n",
       "      <td>31</td>\n",
       "      <td>127.760591</td>\n",
       "      <td>34.976362</td>\n",
       "      <td>급속</td>\n",
       "    </tr>\n",
       "    <tr>\n",
       "      <th>31</th>\n",
       "      <td>32</td>\n",
       "      <td>127.693492</td>\n",
       "      <td>34.938008</td>\n",
       "      <td>완속</td>\n",
       "    </tr>\n",
       "    <tr>\n",
       "      <th>32</th>\n",
       "      <td>33</td>\n",
       "      <td>127.716631</td>\n",
       "      <td>34.936598</td>\n",
       "      <td>급속</td>\n",
       "    </tr>\n",
       "    <tr>\n",
       "      <th>33</th>\n",
       "      <td>34</td>\n",
       "      <td>127.698892</td>\n",
       "      <td>34.930914</td>\n",
       "      <td>완속</td>\n",
       "    </tr>\n",
       "    <tr>\n",
       "      <th>34</th>\n",
       "      <td>35</td>\n",
       "      <td>127.551313</td>\n",
       "      <td>34.963259</td>\n",
       "      <td>급속</td>\n",
       "    </tr>\n",
       "    <tr>\n",
       "      <th>35</th>\n",
       "      <td>36</td>\n",
       "      <td>127.586662</td>\n",
       "      <td>34.975080</td>\n",
       "      <td>완속</td>\n",
       "    </tr>\n",
       "    <tr>\n",
       "      <th>36</th>\n",
       "      <td>37</td>\n",
       "      <td>127.570769</td>\n",
       "      <td>34.968802</td>\n",
       "      <td>급속</td>\n",
       "    </tr>\n",
       "    <tr>\n",
       "      <th>37</th>\n",
       "      <td>38</td>\n",
       "      <td>127.609430</td>\n",
       "      <td>34.972947</td>\n",
       "      <td>완속</td>\n",
       "    </tr>\n",
       "    <tr>\n",
       "      <th>38</th>\n",
       "      <td>39</td>\n",
       "      <td>127.584586</td>\n",
       "      <td>34.975637</td>\n",
       "      <td>급속</td>\n",
       "    </tr>\n",
       "    <tr>\n",
       "      <th>39</th>\n",
       "      <td>40</td>\n",
       "      <td>127.689612</td>\n",
       "      <td>34.936348</td>\n",
       "      <td>완속</td>\n",
       "    </tr>\n",
       "  </tbody>\n",
       "</table>\n",
       "</div>"
      ],
      "text/plain": [
       "    순번    X 좌표(경도)   Y 좌표(위도) 충전소 구분\n",
       "0    1  127.575532  34.977103     급속\n",
       "1    2  127.575324  34.965256     완속\n",
       "2    3  127.590375  34.977016     급속\n",
       "3    4  127.689775  34.933064     완속\n",
       "4    5  127.577880  34.963578     급속\n",
       "5    6  127.695428  34.936252     완속\n",
       "6    7  127.696883  34.930593     급속\n",
       "7    8  127.689898  34.944657     완속\n",
       "8    9  127.607064  34.974006     급속\n",
       "9   10  127.697416  34.933467     완속\n",
       "10  11  127.579587  34.980273     급속\n",
       "11  12  127.572954  34.962883     완속\n",
       "12  13  127.691394  34.953076     급속\n",
       "13  14  127.692992  34.942425     완속\n",
       "14  15  127.717016  34.934232     급속\n",
       "15  16  127.583596  34.980974     완속\n",
       "16  17  127.576642  34.974387     급속\n",
       "17  18  127.585254  34.976457     완속\n",
       "18  19  127.687275  34.945495     급속\n",
       "19  20  127.590331  34.973857     완속\n",
       "20  21  127.717976  34.965290     급속\n",
       "21  22  127.687732  34.943054     완속\n",
       "22  23  127.609914  34.970849     급속\n",
       "23  24  127.583395  34.973645     완속\n",
       "24  25  127.762056  34.944720     급속\n",
       "25  26  127.699350  34.934140     완속\n",
       "26  27  127.719284  35.018417     급속\n",
       "27  28  127.689313  34.950509     완속\n",
       "28  29  127.583895  34.978367     급속\n",
       "29  30  127.565805  34.969112     완속\n",
       "30  31  127.760591  34.976362     급속\n",
       "31  32  127.693492  34.938008     완속\n",
       "32  33  127.716631  34.936598     급속\n",
       "33  34  127.698892  34.930914     완속\n",
       "34  35  127.551313  34.963259     급속\n",
       "35  36  127.586662  34.975080     완속\n",
       "36  37  127.570769  34.968802     급속\n",
       "37  38  127.609430  34.972947     완속\n",
       "38  39  127.584586  34.975637     급속\n",
       "39  40  127.689612  34.936348     완속"
      ]
     },
     "execution_count": 61,
     "metadata": {},
     "output_type": "execute_result"
    }
   ],
   "source": [
    "# csv 파일로 변환\n",
    "\n",
    "result = pd.DataFrame(columns = ['순번', 'X 좌표(경도)', 'Y 좌표(위도)', '충전소 구분'])\n",
    "quick_item = list(quick_location.items())\n",
    "standard_item = list(standard_location.items())\n",
    "\n",
    "for i in range(40):\n",
    "    if i%2:\n",
    "        result.loc[i] = [i+1, standard_item[i//2][1][1][0], standard_item[i//2][1][1][1], '완속']\n",
    "    else:\n",
    "        result.loc[i] = [i+1, quick_item[i//2][1][1][0], quick_item[i//2][1][1][1], '급속']\n",
    "result"
   ]
  },
  {
   "cell_type": "code",
   "execution_count": 64,
   "metadata": {},
   "outputs": [],
   "source": [
    "# result.to_csv('result.csv', index = False, encoding = 'cp949')\n",
    "result.to_csv('result.csv', index = False, encoding = 'utf8')"
   ]
  },
  {
   "cell_type": "code",
   "execution_count": null,
   "metadata": {},
   "outputs": [],
   "source": []
  }
 ],
 "metadata": {
  "kernelspec": {
   "display_name": "Python 3",
   "language": "python",
   "name": "python3"
  },
  "language_info": {
   "codemirror_mode": {
    "name": "ipython",
    "version": 3
   },
   "file_extension": ".py",
   "mimetype": "text/x-python",
   "name": "python",
   "nbconvert_exporter": "python",
   "pygments_lexer": "ipython3",
   "version": "3.6.9"
  }
 },
 "nbformat": 4,
 "nbformat_minor": 2
}
