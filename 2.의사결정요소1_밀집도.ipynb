{
 "cells": [
  {
   "cell_type": "markdown",
   "metadata": {},
   "source": [
    "# 2. 의사결정요소 Feature engineering"
   ]
  },
  {
   "cell_type": "markdown",
   "metadata": {},
   "source": [
    "## 2.1. 의사결정요소 1 : 밀집도\n",
    "### 생산가능인구수\n",
    "- 국토정보플랫폼 국토정보맵 국토통계지도(http://map.ngii.go.kr/ms/map/NlipMap.do)의 격자별 생산가능인구수 데이터(250X250) 사용 \n",
    "\n",
    "### 자동차보유*전기차비율\n",
    "- 제공된 데이터는 100X100 격자 기준이나, 타 요소와의 격자 통일을 위해 처리함(250X250)\n",
    "- Null 값은 존재하지 않으나 0값이 대부분을 차지하고 있어, 데이터 변환의 수월성을 위해 0값을 제거함\n",
    "- 전기차보급현황 데이터를 통해 계산한 행정구역별 전기차 보급 비율을 자동차등록현황에 곱해줌\n",
    "\n",
    "### 토지이용압축도\n",
    "- 격자 내 건축물 연면적 합 ÷ 격자 면적 × 100"
   ]
  },
  {
   "cell_type": "markdown",
   "metadata": {},
   "source": [
    "### 라이브러리 및 데이터 불러오기"
   ]
  },
  {
   "cell_type": "code",
   "execution_count": 1,
   "metadata": {},
   "outputs": [],
   "source": [
    "from geoband.API import *"
   ]
  },
  {
   "cell_type": "code",
   "execution_count": 2,
   "metadata": {},
   "outputs": [
    {
     "name": "stderr",
     "output_type": "stream",
     "text": [
      "/opt/app-root/lib/python3.6/site-packages/statsmodels/tools/_testing.py:19: FutureWarning: pandas.util.testing is deprecated. Use the functions in the public API at pandas.testing instead.\n",
      "  import pandas.util.testing as tm\n"
     ]
    }
   ],
   "source": [
    "import folium\n",
    "import json\n",
    "import geopandas as gpd\n",
    "\n",
    "import pandas as pd\n",
    "import numpy as np\n",
    "import seaborn as sns\n",
    "import matplotlib.pyplot as plt\n",
    "import haversine\n",
    "\n",
    "from shapely.geometry import Point, Polygon, MultiPolygon\n",
    "\n",
    "import platform\n",
    "\n",
    "from IPython.display import set_matplotlib_formats\n",
    "\n",
    "if platform.system() == 'Darwin':\n",
    "    plt.rc('font', family = 'AppleGothic')\n",
    "elif platform.system() == 'Windows':\n",
    "    plt.rc('font', family = 'Malgun Gothic')\n",
    "\n",
    "plt.rc('axes', unicode_minus=False)\n",
    "\n",
    "set_matplotlib_formats('retina')\n",
    "\n",
    "import warnings\n",
    "warnings.filterwarnings(action='ignore')\n",
    "\n",
    "import pathlib\n",
    "from tqdm import tqdm, notebook\n",
    "import os\n",
    "\n",
    "%matplotlib inline"
   ]
  },
  {
   "cell_type": "code",
   "execution_count": 3,
   "metadata": {},
   "outputs": [],
   "source": [
    "# 데이터 불러오기\n",
    "input_path = pathlib.Path('./data')\n",
    "if not input_path.is_dir():\n",
    "    input_path.mkdir()\n",
    "\n",
    "\n",
    "GetCompasData('SBJ_2009_001', '3', input_path.joinpath('03.광양시_자동차등록현황_격자(100X100).geojson'))\n",
    "GetCompasData('SBJ_2009_001', '6', input_path.joinpath('06.광양시_전기차보급현황(연도별,읍면동별).csv'))\n",
    "GetCompasData('SBJ_2009_001', '15', input_path.joinpath('15.광양시_건물정보.geojson'))\n",
    "GetCompasData('SBJ_2009_001', '20', input_path.joinpath('20.광양시_행정경계(읍면동).geojson'))\n",
    "\n",
    "# 국토정보맵 데이터\n",
    "생산가능인구수 = gpd.read_file('./data/생산가능인구수/vl_blk.shp', encoding = 'EUC-KR')\n",
    "\n",
    "# COMPAS 데이터\n",
    "자동차등록현황 = gpd.read_file('./data/03.광양시_자동차등록현황_격자(100X100).geojson')\n",
    "전기차보급현황 = pd.read_csv('./data/06.광양시_전기차보급현황(연도별,읍면동별).csv')\n",
    "건물정보 = gpd.read_file('./data/15.광양시_건물정보.geojson')\n",
    "행정경계_읍면동 = gpd.read_file('./data/20.광양시_행정경계(읍면동).geojson')"
   ]
  },
  {
   "cell_type": "markdown",
   "metadata": {},
   "source": [
    "### 생산가능인구수"
   ]
  },
  {
   "cell_type": "code",
   "execution_count": 4,
   "metadata": {},
   "outputs": [],
   "source": [
    "# 생산가능인구수의 좌표계를 EPSG:4326으로 변환함\n",
    "생산가능인구수 = 생산가능인구수.to_crs({'init': 'epsg:4326'})\n",
    "\n",
    "# feature_gdf 데이터 프레임에 밀집도 feature 취합함\n",
    "feature_gdf = 생산가능인구수.drop('lbl', axis = 1).rename(columns = {'val':'생산가능인구수'}).copy()"
   ]
  },
  {
   "cell_type": "markdown",
   "metadata": {},
   "source": [
    "### 자동차보유*전기차비율"
   ]
  },
  {
   "cell_type": "code",
   "execution_count": 5,
   "metadata": {},
   "outputs": [
    {
     "name": "stderr",
     "output_type": "stream",
     "text": [
      "100%|██████████| 2626/2626 [18:16<00:00,  2.40it/s]\n"
     ]
    }
   ],
   "source": [
    "# 자동차등록현황 250X250 격자화 및 feature_gdf에 취합\n",
    "feature_gdf['자동차등록현황'] = 0\n",
    "자동차등록현황 = 자동차등록현황[자동차등록현황['totale'] != 0]\n",
    "\n",
    "for i in tqdm(자동차등록현황.index):\n",
    "    for j in feature_gdf.index:\n",
    "        if 자동차등록현황['geometry'][i].intersects(feature_gdf['geometry'][j]):\n",
    "            feature_gdf['자동차등록현황'][j] += 자동차등록현황['totale'][i]"
   ]
  },
  {
   "cell_type": "markdown",
   "metadata": {},
   "source": [
    "- 자동차등록현황에 광양시 전기차 비율 반영"
   ]
  },
  {
   "cell_type": "code",
   "execution_count": 6,
   "metadata": {},
   "outputs": [],
   "source": [
    "# 전기차보급현황의 행정경계 표시하기 위해 dataframe merge\n",
    "전기차보급현황 = 전기차보급현황.groupby('행정구역')[['보급현황']].sum()\n",
    "전기차보급현황 = pd.merge(행정경계_읍면동, 전기차보급현황, left_on = 'ADM_DR_NM', right_on = '행정구역')\n",
    "전기차보급현황 = 전기차보급현황.rename(columns = {'ADM_DR_NM' : '행정구역'})[['행정구역', '보급현황', 'geometry']]"
   ]
  },
  {
   "cell_type": "code",
   "execution_count": 7,
   "metadata": {},
   "outputs": [
    {
     "name": "stdout",
     "output_type": "stream",
     "text": [
      "CPU times: user 19.2 s, sys: 0 ns, total: 19.2 s\n",
      "Wall time: 20.2 s\n"
     ]
    }
   ],
   "source": [
    "%%time\n",
    "ft2 = feature_gdf.copy()\n",
    "ft2['행정구역'] = 'NaN'\n",
    "\n",
    "# 격자에 데이터 넣기\n",
    "for i in range(len(ft2)):\n",
    "    point = ft2['geometry'][i].centroid\n",
    "    for j in range(len(전기차보급현황)):\n",
    "        if (point.within(전기차보급현황['geometry'][j])):           #격자의 centroid가 행정경계 안에 있으면 행정구역명 넣기\n",
    "            ft2['행정구역'][i] = 전기차보급현황['행정구역'][j]\n",
    "            break\n",
    "        elif (ft2['geometry'][i].intersects(전기차보급현황['geometry'][j])):     #경계에 걸쳐있어 null값으로 처리되는 데이터는 intersects로 겹치면 행정구역명 넣기\n",
    "            ft2['행정구역'][i] = 전기차보급현황['행정구역'][j]\n",
    "            break"
   ]
  },
  {
   "cell_type": "code",
   "execution_count": 8,
   "metadata": {},
   "outputs": [],
   "source": [
    "# 처리되지 않는 null값은 따로 처리(3건)\n",
    "ft2['행정구역'][1212] = '광양읍'\n",
    "ft2['행정구역'][1213] = '광양읍'\n",
    "ft2['행정구역'][7606] = '태인동'"
   ]
  },
  {
   "cell_type": "code",
   "execution_count": 9,
   "metadata": {},
   "outputs": [
    {
     "data": {
      "text/html": [
       "<div>\n",
       "<style scoped>\n",
       "    .dataframe tbody tr th:only-of-type {\n",
       "        vertical-align: middle;\n",
       "    }\n",
       "\n",
       "    .dataframe tbody tr th {\n",
       "        vertical-align: top;\n",
       "    }\n",
       "\n",
       "    .dataframe thead th {\n",
       "        text-align: right;\n",
       "    }\n",
       "</style>\n",
       "<table border=\"1\" class=\"dataframe\">\n",
       "  <thead>\n",
       "    <tr style=\"text-align: right;\">\n",
       "      <th></th>\n",
       "      <th>행정구역</th>\n",
       "      <th>자동차등록현황</th>\n",
       "      <th>보급현황</th>\n",
       "      <th>geometry</th>\n",
       "      <th>보급비율</th>\n",
       "    </tr>\n",
       "  </thead>\n",
       "  <tbody>\n",
       "    <tr>\n",
       "      <th>0</th>\n",
       "      <td>골약동</td>\n",
       "      <td>778</td>\n",
       "      <td>4</td>\n",
       "      <td>MULTIPOLYGON (((127.68056 34.92848, 127.68105 ...</td>\n",
       "      <td>0.005141</td>\n",
       "    </tr>\n",
       "    <tr>\n",
       "      <th>1</th>\n",
       "      <td>광양읍</td>\n",
       "      <td>8241</td>\n",
       "      <td>102</td>\n",
       "      <td>MULTIPOLYGON (((127.59070 34.91870, 127.59150 ...</td>\n",
       "      <td>0.012377</td>\n",
       "    </tr>\n",
       "    <tr>\n",
       "      <th>2</th>\n",
       "      <td>광영동</td>\n",
       "      <td>1441</td>\n",
       "      <td>12</td>\n",
       "      <td>MULTIPOLYGON (((127.71676 34.96939, 127.71691 ...</td>\n",
       "      <td>0.008328</td>\n",
       "    </tr>\n",
       "    <tr>\n",
       "      <th>3</th>\n",
       "      <td>금호동</td>\n",
       "      <td>2719</td>\n",
       "      <td>23</td>\n",
       "      <td>MULTIPOLYGON (((127.73203 34.95128, 127.73243 ...</td>\n",
       "      <td>0.008459</td>\n",
       "    </tr>\n",
       "    <tr>\n",
       "      <th>4</th>\n",
       "      <td>다압면</td>\n",
       "      <td>311</td>\n",
       "      <td>0</td>\n",
       "      <td>MULTIPOLYGON (((127.64117 35.16850, 127.64140 ...</td>\n",
       "      <td>0.000000</td>\n",
       "    </tr>\n",
       "    <tr>\n",
       "      <th>5</th>\n",
       "      <td>봉강면</td>\n",
       "      <td>542</td>\n",
       "      <td>4</td>\n",
       "      <td>MULTIPOLYGON (((127.58037 35.10902, 127.58052 ...</td>\n",
       "      <td>0.007380</td>\n",
       "    </tr>\n",
       "    <tr>\n",
       "      <th>6</th>\n",
       "      <td>옥곡면</td>\n",
       "      <td>1091</td>\n",
       "      <td>8</td>\n",
       "      <td>MULTIPOLYGON (((127.64878 35.03547, 127.64902 ...</td>\n",
       "      <td>0.007333</td>\n",
       "    </tr>\n",
       "    <tr>\n",
       "      <th>7</th>\n",
       "      <td>옥룡면</td>\n",
       "      <td>534</td>\n",
       "      <td>11</td>\n",
       "      <td>MULTIPOLYGON (((127.59872 35.12006, 127.59919 ...</td>\n",
       "      <td>0.020599</td>\n",
       "    </tr>\n",
       "    <tr>\n",
       "      <th>8</th>\n",
       "      <td>중마동</td>\n",
       "      <td>10658</td>\n",
       "      <td>78</td>\n",
       "      <td>MULTIPOLYGON (((127.70376 34.96198, 127.70542 ...</td>\n",
       "      <td>0.007318</td>\n",
       "    </tr>\n",
       "    <tr>\n",
       "      <th>9</th>\n",
       "      <td>진상면</td>\n",
       "      <td>492</td>\n",
       "      <td>5</td>\n",
       "      <td>MULTIPOLYGON (((127.65639 35.11680, 127.65698 ...</td>\n",
       "      <td>0.010163</td>\n",
       "    </tr>\n",
       "    <tr>\n",
       "      <th>10</th>\n",
       "      <td>진월면</td>\n",
       "      <td>707</td>\n",
       "      <td>5</td>\n",
       "      <td>MULTIPOLYGON (((127.75715 35.05502, 127.75716 ...</td>\n",
       "      <td>0.007072</td>\n",
       "    </tr>\n",
       "    <tr>\n",
       "      <th>11</th>\n",
       "      <td>태인동</td>\n",
       "      <td>917</td>\n",
       "      <td>1</td>\n",
       "      <td>MULTIPOLYGON (((127.76162 34.95988, 127.76163 ...</td>\n",
       "      <td>0.001091</td>\n",
       "    </tr>\n",
       "  </tbody>\n",
       "</table>\n",
       "</div>"
      ],
      "text/plain": [
       "   행정구역  자동차등록현황  보급현황                                           geometry  \\\n",
       "0   골약동      778     4  MULTIPOLYGON (((127.68056 34.92848, 127.68105 ...   \n",
       "1   광양읍     8241   102  MULTIPOLYGON (((127.59070 34.91870, 127.59150 ...   \n",
       "2   광영동     1441    12  MULTIPOLYGON (((127.71676 34.96939, 127.71691 ...   \n",
       "3   금호동     2719    23  MULTIPOLYGON (((127.73203 34.95128, 127.73243 ...   \n",
       "4   다압면      311     0  MULTIPOLYGON (((127.64117 35.16850, 127.64140 ...   \n",
       "5   봉강면      542     4  MULTIPOLYGON (((127.58037 35.10902, 127.58052 ...   \n",
       "6   옥곡면     1091     8  MULTIPOLYGON (((127.64878 35.03547, 127.64902 ...   \n",
       "7   옥룡면      534    11  MULTIPOLYGON (((127.59872 35.12006, 127.59919 ...   \n",
       "8   중마동    10658    78  MULTIPOLYGON (((127.70376 34.96198, 127.70542 ...   \n",
       "9   진상면      492     5  MULTIPOLYGON (((127.65639 35.11680, 127.65698 ...   \n",
       "10  진월면      707     5  MULTIPOLYGON (((127.75715 35.05502, 127.75716 ...   \n",
       "11  태인동      917     1  MULTIPOLYGON (((127.76162 34.95988, 127.76163 ...   \n",
       "\n",
       "        보급비율  \n",
       "0   0.005141  \n",
       "1   0.012377  \n",
       "2   0.008328  \n",
       "3   0.008459  \n",
       "4   0.000000  \n",
       "5   0.007380  \n",
       "6   0.007333  \n",
       "7   0.020599  \n",
       "8   0.007318  \n",
       "9   0.010163  \n",
       "10  0.007072  \n",
       "11  0.001091  "
      ]
     },
     "execution_count": 9,
     "metadata": {},
     "output_type": "execute_result"
    }
   ],
   "source": [
    "# 전기차보급현황 dataframe에 행정구역별 전기차 보급 비율 계산해서 추가\n",
    "df = ft2.groupby('행정구역')[['자동차등록현황']].sum()\n",
    "df2 = pd.merge(df, 전기차보급현황, on = '행정구역')\n",
    "df2['보급비율'] = df2['보급현황']/df2['자동차등록현황']\n",
    "df2"
   ]
  },
  {
   "cell_type": "code",
   "execution_count": 10,
   "metadata": {},
   "outputs": [
    {
     "name": "stdout",
     "output_type": "stream",
     "text": [
      "CPU times: user 2.25 s, sys: 11.9 ms, total: 2.26 s\n",
      "Wall time: 2.39 s\n"
     ]
    }
   ],
   "source": [
    "%%time\n",
    "ft2['자동차보유*전기차비율'] = ft2['자동차등록현황'].astype(float)\n",
    "\n",
    "for i in range(len(ft2)):\n",
    "    for j in range(len(df2)):\n",
    "        if (ft2['행정구역'][i] == df2['행정구역'][j]):\n",
    "            ft2['자동차보유*전기차비율'][i] =  ft2['자동차보유*전기차비율'][i]*df2['보급비율'][j]\n",
    "            break\n",
    "\n",
    "# feature_gdf에 취합\n",
    "feature_gdf['자동차보유*전기차비율'] = ft2['자동차보유*전기차비율']\n",
    "feature_gdf.drop('자동차등록현황', axis=1, inplace=True)"
   ]
  },
  {
   "cell_type": "markdown",
   "metadata": {},
   "source": [
    "### 토지이용압축도"
   ]
  },
  {
   "cell_type": "code",
   "execution_count": 11,
   "metadata": {},
   "outputs": [
    {
     "name": "stderr",
     "output_type": "stream",
     "text": [
      "100%|██████████| 23556/23556 [1:31:51<00:00,  4.27it/s]\n"
     ]
    }
   ],
   "source": [
    "# 건물정보 데이터를 활용하여 격자 내 연면적 합 구하기\n",
    "건물정보_연면적 = 건물정보[['건물연면적','geometry']]\n",
    "\n",
    "feature_gdf['연면적'] = 0\n",
    "\n",
    "for i in tqdm(건물정보_연면적.index):\n",
    "    point = 건물정보_연면적['geometry'][i].centroid\n",
    "    for j in feature_gdf.index:\n",
    "        if(point.within(feature_gdf['geometry'][j])):\n",
    "            feature_gdf['연면적'][j] += 건물정보_연면적['건물연면적'][i]"
   ]
  },
  {
   "cell_type": "code",
   "execution_count": 12,
   "metadata": {},
   "outputs": [],
   "source": [
    "# 토지이용압축도 구하기 (격자 내 건축물 연면적 합 ÷ 격자 면적 × 100)\n",
    "feature_gdf['토지이용압축도'] = feature_gdf['연면적']/62500 * 100\n",
    "feature_gdf.drop('연면적', axis=1, inplace=True)"
   ]
  },
  {
   "cell_type": "code",
   "execution_count": 13,
   "metadata": {},
   "outputs": [],
   "source": [
    "# feature_gdf 저장\n",
    "feature_gdf.to_file('./data/feature_gdf.geojson', driver = 'GeoJSON')"
   ]
  }
 ],
 "metadata": {
  "kernelspec": {
   "display_name": "Python 3",
   "language": "python",
   "name": "python3"
  },
  "language_info": {
   "codemirror_mode": {
    "name": "ipython",
    "version": 3
   },
   "file_extension": ".py",
   "mimetype": "text/x-python",
   "name": "python",
   "nbconvert_exporter": "python",
   "pygments_lexer": "ipython3",
   "version": "3.7.6"
  }
 },
 "nbformat": 4,
 "nbformat_minor": 2
}
